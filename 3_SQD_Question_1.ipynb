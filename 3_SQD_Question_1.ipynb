{
 "cells": [
  {
   "cell_type": "markdown",
   "metadata": {},
   "source": [
    "# Balanced Parentheses Check\n",
    "## Given a string of opening and closing brackets, check whether its balanced. \n",
    "## Three types of brackets : (), {}, []. Assume no other characters or spaces."
   ]
  },
  {
   "cell_type": "markdown",
   "metadata": {},
   "source": [
    "### Solution 1 - Stack - $O(n)$\n",
    "Everytime we see a left paren, add it to the stack. Every time we see a right paren, pop and check."
   ]
  },
  {
   "cell_type": "code",
   "execution_count": 28,
   "metadata": {},
   "outputs": [],
   "source": [
    "def BalancedParen(string1):\n",
    "    \n",
    "    # edge cases\n",
    "    if len(string1) == 0:\n",
    "        return True\n",
    "    if len(string1)%2 != 0:\n",
    "        return False\n",
    "    \n",
    "    \n",
    "    stack = []\n",
    "    \n",
    "      # every time we see a left paren, add it to the stack\n",
    "        # every time we see a right paren, pop and check\n",
    "    \n",
    "    for char in string1:\n",
    "        print(\"Current Stack: \", stack)\n",
    "        if char == '(' or char == '{' or char == '[':\n",
    "            stack.append(char)\n",
    "        if char == ')':\n",
    "            if stack.pop() != '(':\n",
    "                return False\n",
    "        if char == '}':\n",
    "            if stack.pop() != '{':\n",
    "                return False\n",
    "        if char == ']':\n",
    "            if stack.pop() != '[':\n",
    "                return False\n",
    "    \n",
    "    if stack == []:\n",
    "        return True"
   ]
  },
  {
   "cell_type": "code",
   "execution_count": 30,
   "metadata": {},
   "outputs": [
    {
     "name": "stdout",
     "output_type": "stream",
     "text": [
      "Current Stack:  []\n",
      "Current Stack:  ['(']\n",
      "Current Stack:  ['(', '(']\n",
      "Current Stack:  ['(']\n",
      "Current Stack:  []\n",
      "Current Stack:  ['{']\n",
      "Current Stack:  []\n",
      "Current Stack:  ['[']\n",
      "Tests Pass!\n"
     ]
    }
   ],
   "source": [
    "from nose.tools import assert_equal\n",
    "\n",
    "class BalancedParenTester(object):\n",
    "    \n",
    "    def test(self, solution):\n",
    "        assert_equal(solution('(()){}[]'), True)\n",
    "        print(\"Tests Pass!\")\n",
    "\n",
    "t = BalancedParenTester()\n",
    "t.test(BalancedParen)\n"
   ]
  },
  {
   "cell_type": "markdown",
   "metadata": {},
   "source": [
    "## Practice, Practice, Practice\n",
    " Given a string of opening and closing brackets, check whether its balanced. Three types of brackets : (), {}, []. Assume no other characters or spaces."
   ]
  }
 ],
 "metadata": {
  "kernelspec": {
   "display_name": "Python 3",
   "language": "python",
   "name": "python3"
  },
  "language_info": {
   "codemirror_mode": {
    "name": "ipython",
    "version": 3
   },
   "file_extension": ".py",
   "mimetype": "text/x-python",
   "name": "python",
   "nbconvert_exporter": "python",
   "pygments_lexer": "ipython3",
   "version": "3.6.3"
  }
 },
 "nbformat": 4,
 "nbformat_minor": 2
}
