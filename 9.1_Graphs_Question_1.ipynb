{
 "cells": [
  {
   "cell_type": "markdown",
   "metadata": {},
   "source": [
    "# Word ladder Problem\n",
    "### - Transform the word \"FOOL\" into the word \"Sage\".\n",
    "### - In a word ladder puzzle you must make the change occur gradually by changing one letter at a time.\n",
    "### - At each step you must transform one word into another word, you are not allowed to transfor a word into a non-word\n"
   ]
  },
  {
   "cell_type": "markdown",
   "metadata": {},
   "source": [
    "### Naive Solution $O(n^2)$\n",
    " Have an edge from one word to another if the two words are only different by a single letter.\n",
    " \n",
    "### Better Solution\n",
    "- Have a bucket of words that differ only by one letter.\n",
    "- The labels on the buckets are keys in a dictionary.\n",
    "- Value stored for that key is a list of words."
   ]
  },
  {
   "cell_type": "code",
   "execution_count": 10,
   "metadata": {},
   "outputs": [],
   "source": [
    "class Vertex(object):\n",
    "    def __init__(self, key):\n",
    "        self.id = key\n",
    "        self.connectedTo = {}\n",
    "        \n",
    "    def addNeighbor(self, nbr, weight=0):\n",
    "        self.connectedTo[nbr] = weight\n",
    "        \n",
    "    def __str__(self):\n",
    "        return str(self.id) + \"connectedTo: \" + str(x.id for x in self.connectedTo)\n",
    "    \n",
    "    def getConnections(self):\n",
    "        return self.connectedTo.keys()\n",
    "    def getId(self):\n",
    "        return self.id\n",
    "    def getWeight(self, nbr):\n",
    "        return self.connectedTo[nbr]\n",
    "    \n",
    "    \n",
    "class Graph(object):\n",
    "    def __init__(self):\n",
    "        self.vertList={}\n",
    "        self.numVertices = 0\n",
    "        \n",
    "    def __contains__(self, n):\n",
    "        return n in self.vertList\n",
    "    \n",
    "    def __iter__(self):\n",
    "        return iter(self.vertList.values())\n",
    "        \n",
    "    def addVertex(self, key):\n",
    "        self.numVertices += 1\n",
    "        newVertex = Vertex(key)\n",
    "        self.vertList[key] = newVertex\n",
    "        return newVertex\n",
    "    \n",
    "    def getVertex(self, n):\n",
    "        if n in self.verList:\n",
    "            return self.vertList[n]\n",
    "        else:\n",
    "            return None\n",
    "        \n",
    "    def getVertices(self):\n",
    "        return self.vertList.keys()\n",
    "    \n",
    "    def addEdge(self, f, t, cost=0):\n",
    "        \n",
    "        if f not in self.vertList:\n",
    "            self.addVertex(f)\n",
    "        if t not in self.vertList:\n",
    "            self.addVertex(t)\n",
    "        self.vertList[f].addNeighbor(self.vertList[t], cost)\n",
    "    \n",
    "def buildGraph(wordFile):\n",
    "    d = {}\n",
    "    g = Graph()\n",
    "\n",
    "    # open the list of words\n",
    "    wfile = open(\"9_words.txt\", \"r\")\n",
    "\n",
    "    # create buckets of words that differ by one letter\n",
    "    for line in wfile:\n",
    "        word = line[:-1]\n",
    "    for i in range(len(word)):\n",
    "        bucket = word[:i] + \"_\" + word[i+1:]\n",
    "\n",
    "        if bucket in d:\n",
    "            d[bucket].append(word)\n",
    "        else:\n",
    "            d[bucket] = [word]\n",
    "\n",
    "    # add verticies and edges for words in the same bucket\n",
    "    for bucket in d.keys():\n",
    "        for word1 in d[bucket]:\n",
    "            for word2 in d[bucket]:\n",
    "                if word1 != word2:\n",
    "                    g.addEdge(word1, word2)\n",
    "    return g   "
   ]
  },
  {
   "cell_type": "code",
   "execution_count": 11,
   "metadata": {},
   "outputs": [],
   "source": [
    "graph = buildGraph(\"9_words.txt\")"
   ]
  },
  {
   "cell_type": "code",
   "execution_count": 12,
   "metadata": {},
   "outputs": [
    {
     "data": {
      "text/plain": [
       "dict_keys([])"
      ]
     },
     "execution_count": 12,
     "metadata": {},
     "output_type": "execute_result"
    }
   ],
   "source": [
    "graph.getVertices()"
   ]
  },
  {
   "cell_type": "code",
   "execution_count": null,
   "metadata": {},
   "outputs": [],
   "source": []
  }
 ],
 "metadata": {
  "kernelspec": {
   "display_name": "Python 3",
   "language": "python",
   "name": "python3"
  },
  "language_info": {
   "codemirror_mode": {
    "name": "ipython",
    "version": 3
   },
   "file_extension": ".py",
   "mimetype": "text/x-python",
   "name": "python",
   "nbconvert_exporter": "python",
   "pygments_lexer": "ipython3",
   "version": "3.6.3"
  }
 },
 "nbformat": 4,
 "nbformat_minor": 2
}
