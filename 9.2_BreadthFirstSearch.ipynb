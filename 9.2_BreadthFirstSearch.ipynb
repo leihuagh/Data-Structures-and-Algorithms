{
 "cells": [
  {
   "cell_type": "markdown",
   "metadata": {},
   "source": [
    "# Breadth First Search\n",
    "- Given a graph G and a starting vertex S, BFS proceeds by exploring edges in the graph to find all the vertices in G for which there is a path from S.\n",
    "- BFS finds all the vertices that are a distance K from S before if finds any that are K+1 away. It is guaranteed to return the shortest path first."
   ]
  },
  {
   "cell_type": "code",
   "execution_count": 166,
   "metadata": {},
   "outputs": [],
   "source": [
    "graph = {'A': set(['B', 'C']),\n",
    "         'B': set(['A', 'D', 'E']),\n",
    "         'C': set(['A', 'F']),\n",
    "         'D': set(['B']),\n",
    "         'E': set(['B', 'F']),\n",
    "         'F': set(['C', 'E'])}"
   ]
  },
  {
   "cell_type": "code",
   "execution_count": 184,
   "metadata": {},
   "outputs": [],
   "source": [
    "def bfs_shortest_path_first(graph, start, goal):\n",
    "    \n",
    "    # current vertex, and path to current vertex\n",
    "    queue = [(start, [start])]\n",
    "    \n",
    "    \n",
    "    while queue:\n",
    "        (vertex, path) = queue.pop(0)\n",
    "        \n",
    "        for next in graph[vertex] - set(path):\n",
    "            \n",
    "            if next == goal:\n",
    "                yield path + [next]\n",
    "            else:\n",
    "                queue.append((next, path+[next]))      "
   ]
  },
  {
   "cell_type": "code",
   "execution_count": 185,
   "metadata": {},
   "outputs": [
    {
     "data": {
      "text/plain": [
       "['A', 'C', 'F']"
      ]
     },
     "execution_count": 185,
     "metadata": {},
     "output_type": "execute_result"
    }
   ],
   "source": [
    "list(bfs_shortest_path_first(graph, \"A\", \"F\"))[0]"
   ]
  },
  {
   "cell_type": "code",
   "execution_count": 186,
   "metadata": {},
   "outputs": [],
   "source": [
    "# Finds a path, but not necessarily the shortest one.\n",
    "\n",
    "def find_path(start_vertex, end_vertex, path=None):\n",
    "\n",
    "\n",
    "    if path == None:\n",
    "        path = []\n",
    "    graph2 = graph\n",
    "    path = path + [start_vertex]\n",
    "\n",
    "    # base cases\n",
    "    if start_vertex == end_vertex:\n",
    "        return path\n",
    "    if start_vertex not in graph2:\n",
    "        return None\n",
    "\n",
    "    # check neighbours\n",
    "    for vertex in graph2[start_vertex]:\n",
    "        if vertex not in path:\n",
    "            extended_path = find_path(vertex, end_vertex, path)\n",
    "\n",
    "            if extended_path:\n",
    "                return extended_path\n",
    "\n",
    "    return None"
   ]
  },
  {
   "cell_type": "code",
   "execution_count": 187,
   "metadata": {},
   "outputs": [
    {
     "data": {
      "text/plain": [
       "['D', 'B', 'E', 'F', 'C', 'A']"
      ]
     },
     "execution_count": 187,
     "metadata": {},
     "output_type": "execute_result"
    }
   ],
   "source": [
    "find_path(\"D\", \"A\")"
   ]
  },
  {
   "cell_type": "code",
   "execution_count": null,
   "metadata": {},
   "outputs": [],
   "source": []
  },
  {
   "cell_type": "code",
   "execution_count": null,
   "metadata": {},
   "outputs": [],
   "source": []
  },
  {
   "cell_type": "code",
   "execution_count": null,
   "metadata": {},
   "outputs": [],
   "source": []
  }
 ],
 "metadata": {
  "kernelspec": {
   "display_name": "Python 3",
   "language": "python",
   "name": "python3"
  },
  "language_info": {
   "codemirror_mode": {
    "name": "ipython",
    "version": 3
   },
   "file_extension": ".py",
   "mimetype": "text/x-python",
   "name": "python",
   "nbconvert_exporter": "python",
   "pygments_lexer": "ipython3",
   "version": "3.6.3"
  }
 },
 "nbformat": 4,
 "nbformat_minor": 2
}
