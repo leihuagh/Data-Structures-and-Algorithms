{
 "cells": [
  {
   "cell_type": "markdown",
   "metadata": {},
   "source": [
    "# String Compression\n",
    "### Given a string in the form 'AAAABBBBCCCCDDEEEE', compress it to become 'A4B4C5D2E4'. For this problem you can falsely \"compress\" strings single or double letters. This function should also be case sensetive."
   ]
  },
  {
   "cell_type": "markdown",
   "metadata": {},
   "source": [
    "## Solution 1 - Dictionary"
   ]
  },
  {
   "cell_type": "code",
   "execution_count": 12,
   "metadata": {},
   "outputs": [],
   "source": [
    "def StringCompression1(string1):\n",
    "    \n",
    "    # try using a dictionary\n",
    "    dict = {}\n",
    "    \n",
    "    for x in string1:\n",
    "        if x not in dict:\n",
    "            dict[x] = 1\n",
    "        else:\n",
    "            dict[x] += 1\n",
    "    \n",
    "    # Now how to flatten out a dictionary?\n",
    "\n",
    "    solution_string = \"\"\n",
    "    for y in dict:\n",
    "        solution_string = solution_string + str(y) + str(dict[y])\n",
    "\n",
    "    \n",
    "    return solution_string\n",
    "\n",
    "\n"
   ]
  },
  {
   "cell_type": "markdown",
   "metadata": {},
   "source": [
    "## Solution 2 - 'Run Length Compression Algorithm'"
   ]
  },
  {
   "cell_type": "code",
   "execution_count": 13,
   "metadata": {},
   "outputs": [],
   "source": [
    "def StringCompression2(s):\n",
    "    \n",
    "    run = \"\"\n",
    "    length = len(s)\n",
    "    \n",
    "    # Edge cases (length 0 and length 1)\n",
    "    if length == 0:\n",
    "        return \"\"\n",
    "    if length == 1:\n",
    "        return s + str(1)\n",
    "    \n",
    "    count = 1\n",
    "    i = 1\n",
    "    \n",
    "    while i < length:\n",
    "\n",
    "        # if current is equal to one before\n",
    "        if s[i] == s[i - 1]:\n",
    "            count += 1\n",
    "        else:\n",
    "            #store the data\n",
    "            run = run + s[i-1] + str(count)\n",
    "            count = 1\n",
    "        i += 1\n",
    "    \n",
    "    run = run + s[i-1] + str(count)\n",
    "    \n",
    "    return str(run)"
   ]
  },
  {
   "cell_type": "code",
   "execution_count": 18,
   "metadata": {},
   "outputs": [
    {
     "name": "stdout",
     "output_type": "stream",
     "text": [
      "Tests Pass\n",
      "Tests Pass\n",
      "Tests Pass\n"
     ]
    }
   ],
   "source": [
    "from nose.tools import assert_equal\n",
    "\n",
    "class StringCompressionTester(object):\n",
    "    \n",
    "    def test(self, solution):\n",
    "        assert_equal(solution('AAAABBBB'), 'A4B4')\n",
    "        assert_equal(solution('AAAAaaaaBBBB'), 'A4a4B4')\n",
    "        print(\"Tests Pass\")\n",
    "        \n",
    "        \n",
    "t = StringCompressionTester()\n",
    "t.test(StringCompression1)\n",
    "t.test(StringCompression2)\n",
    "t.test(StringCompressionPractice)"
   ]
  },
  {
   "cell_type": "markdown",
   "metadata": {},
   "source": [
    "### Practice, Practice, Practice \n",
    "Given a string in the form 'AAAABBBBCCCCDDEEEE', compress it to become 'A4B4C5D2E4'. For this problem you can falsely \"compress\" strings single or double letters. This function should also be case sensetive."
   ]
  },
  {
   "cell_type": "code",
   "execution_count": 9,
   "metadata": {},
   "outputs": [
    {
     "name": "stdout",
     "output_type": "stream",
     "text": [
      "A4a4B4\n"
     ]
    }
   ],
   "source": [
    "def StringCompressionPractice(string):\n",
    "    \n",
    "    # run, length, count\n",
    "    run = \"\"\n",
    "    length = len(string)\n",
    "    count = 1\n",
    "    i = 1\n",
    "    \n",
    "    # compare the next to the current, careful for null pointer.\n",
    "    \n",
    "    while i < length:\n",
    "        if string[i] == string[i-1]:\n",
    "            count +=1\n",
    "        else:\n",
    "            run = run + string[i-1] + str(count)\n",
    "            count = 1\n",
    "        i += 1\n",
    "    run = run + string[i-1] + str(count)\n",
    "    print(run)\n",
    "        \n",
    "            \n",
    "    \n",
    "    \n",
    "StringCompressionPractice(\"AAAAaaaaBBBB\")"
   ]
  },
  {
   "cell_type": "code",
   "execution_count": null,
   "metadata": {},
   "outputs": [],
   "source": []
  },
  {
   "cell_type": "code",
   "execution_count": null,
   "metadata": {},
   "outputs": [],
   "source": []
  },
  {
   "cell_type": "code",
   "execution_count": null,
   "metadata": {},
   "outputs": [],
   "source": []
  },
  {
   "cell_type": "code",
   "execution_count": null,
   "metadata": {},
   "outputs": [],
   "source": []
  }
 ],
 "metadata": {
  "kernelspec": {
   "display_name": "Python 3",
   "language": "python",
   "name": "python3"
  },
  "language_info": {
   "codemirror_mode": {
    "name": "ipython",
    "version": 3
   },
   "file_extension": ".py",
   "mimetype": "text/x-python",
   "name": "python",
   "nbconvert_exporter": "python",
   "pygments_lexer": "ipython3",
   "version": "3.6.3"
  }
 },
 "nbformat": 4,
 "nbformat_minor": 2
}
