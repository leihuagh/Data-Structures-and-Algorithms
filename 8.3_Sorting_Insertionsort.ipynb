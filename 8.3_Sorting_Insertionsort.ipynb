{
 "cells": [
  {
   "cell_type": "markdown",
   "metadata": {},
   "source": [
    "# Insertion Sort"
   ]
  },
  {
   "cell_type": "markdown",
   "metadata": {},
   "source": [
    "Although it is one of the elementary sorting algorithms with $O(n^2)$ worst-case time, insertion sort is the algorithm of choice either when the data is nearly sorted (because it is adaptive) or when the problem size is small (because it has low overhead).\n",
    "\n",
    "For these reasons, and because it is also stable, insertion sort is often used as the recursive base case (when the problem size is small) for higher overhead divide-and-conquer sorting algorithms, such as merge sort or quick sort.\n",
    "\n",
    "Shifting rather than swapping (like that of selectionsort and bubblesort) in the second implementation takes approximately a third of the processing work since only one assignment is performed."
   ]
  },
  {
   "cell_type": "markdown",
   "metadata": {},
   "source": [
    "### Properties\n",
    "- Stable\n",
    "- $O(1)$ extra space\n",
    "- $O(n^2)$ comparisons and swaps\n",
    "- Adaptive: $O(n)$ time when nearly sorted\n",
    "- Very low overhead"
   ]
  },
  {
   "cell_type": "markdown",
   "metadata": {},
   "source": [
    "### Implementation 1 - Swapping\n",
    "This may not be right, or at the very least not a good implementation because shifting is more cost effective."
   ]
  },
  {
   "cell_type": "code",
   "execution_count": 58,
   "metadata": {},
   "outputs": [],
   "source": [
    "def insertion_sort(arr):\n",
    "    \n",
    "    for i in range(1, len(arr)):\n",
    "        \n",
    "        for j in range(0,i):\n",
    "            if arr[i] < arr[j]:\n",
    "                arr[i], arr[j] = arr[j], arr[i]\n",
    "    return arr"
   ]
  },
  {
   "cell_type": "code",
   "execution_count": 59,
   "metadata": {},
   "outputs": [
    {
     "data": {
      "text/plain": [
       "[1, 1, 2, 3, 4, 7, 9, 44]"
      ]
     },
     "execution_count": 59,
     "metadata": {},
     "output_type": "execute_result"
    }
   ],
   "source": [
    "insertion_sort([2,1,7,3,9,44,1,4])"
   ]
  },
  {
   "cell_type": "markdown",
   "metadata": {},
   "source": [
    "### Implementation 2 - Shifting"
   ]
  },
  {
   "cell_type": "code",
   "execution_count": 60,
   "metadata": {},
   "outputs": [
    {
     "data": {
      "text/plain": [
       "[1, 1, 2, 3, 4, 7, 9, 44]"
      ]
     },
     "execution_count": 60,
     "metadata": {},
     "output_type": "execute_result"
    }
   ],
   "source": [
    "def insertionSort2(arr):\n",
    "\n",
    "    # we can start at 1 instead of 0 by assuming that arr[0] is a tiny sorted sublist\n",
    "    for x in range(1, len(arr)):\n",
    "        \n",
    "        position = x\n",
    "        current_val = arr[position]\n",
    "        \n",
    "        \n",
    "        while position > 0 and arr[position-1] > current_val:\n",
    "            # moves a value up one position in the list, making room behind it for the insertion.\n",
    "            arr[position] = arr[position-1]\n",
    "            position = position-1\n",
    "        arr[position] = current_val\n",
    "        \n",
    "    return arr\n",
    "        \n",
    "\n",
    "insertionSort2([2,1,7,3,9,44,1,4])\n",
    "    "
   ]
  },
  {
   "cell_type": "markdown",
   "metadata": {},
   "source": [
    "### Implementation 3 - Shifting again"
   ]
  },
  {
   "cell_type": "code",
   "execution_count": 62,
   "metadata": {},
   "outputs": [
    {
     "data": {
      "text/plain": [
       "[1, 1, 2, 3, 4, 7, 9, 44]"
      ]
     },
     "execution_count": 62,
     "metadata": {},
     "output_type": "execute_result"
    }
   ],
   "source": [
    "def insertionSort3(arr):\n",
    "    \n",
    "    # we can start at 1 instead of 0 by assuming that arr[0] is a tiny sorted sublist\n",
    "    for x in range(1, len(arr)):\n",
    "        \n",
    "        current_val = arr[x]\n",
    "        \n",
    "        # start one left for the comparison\n",
    "        position = x-1\n",
    "    \n",
    "        while position >= 0:\n",
    "            \n",
    "            if current_val < arr[position]:\n",
    "                # swap!\n",
    "                arr[position+1] = arr[position]\n",
    "                arr[position] = current_val\n",
    "                position -= 1\n",
    "            else:\n",
    "                break\n",
    "    return arr\n",
    "        \n",
    "    \n",
    "\n",
    "    \n",
    "    \n",
    "    \n",
    "insertionSort3([2,1,7,3,9,44,1,4])"
   ]
  },
  {
   "cell_type": "markdown",
   "metadata": {},
   "source": [
    "### Practice, Pratice, Practice\n",
    "</br></br></br></br></br></br></br></br>\n",
    "Insertion Sort"
   ]
  },
  {
   "cell_type": "code",
   "execution_count": 11,
   "metadata": {},
   "outputs": [
    {
     "data": {
      "text/plain": [
       "[1, 1, 2, 3, 4, 7, 9, 44]"
      ]
     },
     "execution_count": 11,
     "metadata": {},
     "output_type": "execute_result"
    }
   ],
   "source": [
    "def insertionSortPractice(arr):\n",
    "    \n",
    "    for x in range(1, len(arr)):\n",
    "        \n",
    "        cur_pos = x\n",
    "        cur_val = arr[x]\n",
    "        \n",
    "    \n",
    "        while cur_pos >= 0:\n",
    "            \n",
    "            \n",
    "            if cur_val < arr[cur_pos]:\n",
    "                arr[cur_pos+1] = arr[cur_pos]\n",
    "                arr[cur_pos] = cur_val\n",
    "            \n",
    "            cur_pos -= 1\n",
    "        \n",
    "    \n",
    "    \n",
    "    return arr\n",
    "\n",
    "\n",
    "insertionSortPractice([2,1,7,3,9,44,1,4])"
   ]
  },
  {
   "cell_type": "code",
   "execution_count": null,
   "metadata": {},
   "outputs": [],
   "source": []
  },
  {
   "cell_type": "code",
   "execution_count": null,
   "metadata": {},
   "outputs": [],
   "source": []
  }
 ],
 "metadata": {
  "kernelspec": {
   "display_name": "Python 3",
   "language": "python",
   "name": "python3"
  },
  "language_info": {
   "codemirror_mode": {
    "name": "ipython",
    "version": 3
   },
   "file_extension": ".py",
   "mimetype": "text/x-python",
   "name": "python",
   "nbconvert_exporter": "python",
   "pygments_lexer": "ipython3",
   "version": "3.6.3"
  }
 },
 "nbformat": 4,
 "nbformat_minor": 2
}
