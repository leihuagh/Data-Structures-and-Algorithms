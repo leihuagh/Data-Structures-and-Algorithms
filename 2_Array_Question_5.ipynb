{
 "cells": [
  {
   "cell_type": "markdown",
   "metadata": {},
   "source": [
    "# Sentence Reversal\n",
    "## Problem: Given a string of words, reverse all the words. Ignore leading and trailing white spaces.\n",
    "## Given: '   This is the best   ' -> Return: 'best the is This'"
   ]
  },
  {
   "cell_type": "markdown",
   "metadata": {},
   "source": [
    "### Solution 1\n",
    "Loop through the string. Anytime we see a blank space, take everything behind it and make a word. Place that word at the front of the list. This will erroneously also collect the leading and trailing spaces as 'words', so filter the final list for spaces."
   ]
  },
  {
   "cell_type": "code",
   "execution_count": 4,
   "metadata": {},
   "outputs": [
    {
     "name": "stdout",
     "output_type": "stream",
     "text": [
      "['going', 'it', 'hows', 'World', 'Hello']\n"
     ]
    }
   ],
   "source": [
    "def SentenceReverse_1(string):\n",
    "    \n",
    "    word_list = []\n",
    "    current_word = \"\"\n",
    "    \n",
    "    for x in string:\n",
    "        if x != \" \":\n",
    "            current_word = current_word + x\n",
    "        if x == \" \":\n",
    "            word_list.insert(0,current_word)\n",
    "            current_word = \"\"\n",
    "    word_list.insert(0,current_word)\n",
    "         \n",
    "    solution = [x for x in word_list if x != '']\n",
    "        \n",
    "    print (solution)\n",
    "        \n",
    "SentenceReverse_1('    Hello World hows it going   ')\n",
    "\n"
   ]
  },
  {
   "cell_type": "markdown",
   "metadata": {},
   "source": [
    "## Solution 2\n",
    "Loop through the length of the word until you find the a non-space character. Then a nested loop to find the end of the word. Insert the same as above."
   ]
  },
  {
   "cell_type": "code",
   "execution_count": 49,
   "metadata": {},
   "outputs": [],
   "source": [
    "def SentenceReverse_1(string1):\n",
    "\n",
    "    words = []\n",
    "  \n",
    "    length = len(string1)\n",
    "    i = 0\n",
    "    \n",
    "    while i < length:\n",
    "        if string1[i] != \" \":\n",
    "            word_start = i\n",
    "            while i < length and string1[i] != \" \":\n",
    "                i += 1\n",
    "            word_end = i\n",
    "            words.insert(0,[string1[word_start:word_end]])\n",
    "        i +=1\n",
    "    \n",
    "    flat_list = [item for sublist in words for item in sublist]\n",
    "    \n",
    "    new_string = \"\"\n",
    "    for x in flat_list:\n",
    "        new_string += x + \" \"\n",
    "    return(new_string[:-1])"
   ]
  },
  {
   "cell_type": "code",
   "execution_count": 52,
   "metadata": {},
   "outputs": [
    {
     "name": "stdout",
     "output_type": "stream",
     "text": [
      "Tests Passes!\n",
      "Tests Passes!\n"
     ]
    }
   ],
   "source": [
    "from nose.tools import assert_equal\n",
    "\n",
    "class SentenceReverseTester(object):\n",
    "    \n",
    "    def test(self, solution):\n",
    "        assert_equal(solution(\"Hello world how are you  \"), \"you are how world Hello\")\n",
    "        print(\"Tests Passes!\")\n",
    "t = SentenceReverseTester()\n",
    "t.test(SentenceReverse_1)\n",
    "t.test(SentenceReversePractice)"
   ]
  },
  {
   "cell_type": "markdown",
   "metadata": {},
   "source": [
    "### Practice, Practice, Practice\n",
    "Problem: Given a string of words, reverse all the words. Ignore leading and trailing white spaces.\n",
    "Given: '   This is the best   ' -> Return: 'best the is This'"
   ]
  }
 ],
 "metadata": {
  "kernelspec": {
   "display_name": "Python 3",
   "language": "python",
   "name": "python3"
  },
  "language_info": {
   "codemirror_mode": {
    "name": "ipython",
    "version": 3
   },
   "file_extension": ".py",
   "mimetype": "text/x-python",
   "name": "python",
   "nbconvert_exporter": "python",
   "pygments_lexer": "ipython3",
   "version": "3.6.3"
  }
 },
 "nbformat": 4,
 "nbformat_minor": 2
}
