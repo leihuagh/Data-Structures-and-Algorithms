{
 "cells": [
  {
   "cell_type": "markdown",
   "metadata": {},
   "source": [
    "# Shell Sort\n",
    "\n",
    "Partially sorts the array by sorting elements that are a certain number of spaces apart. Performance improves compared to insertionsort because we eliminate the need to shift many indexes in the array.\n",
    "\n",
    "### Properties\n",
    "- Not stable\n",
    "- $O(1)$ extra space\n",
    "- $O(n^\\frac{3}{2})$ time as shown (see below)\n",
    "- Adaptive: $O(n\\log{n})$ time when nearly sorted"
   ]
  },
  {
   "cell_type": "code",
   "execution_count": 34,
   "metadata": {},
   "outputs": [],
   "source": [
    "def shell_sort(arr):\n",
    "    \n",
    "    sublistcount = len(arr) // 2\n",
    "    \n",
    "    while sublistcount > 0 :\n",
    "        \n",
    "        for start in range(sublistcount):\n",
    "            \n",
    "            gap_insertion_sort(arr, start, sublistcount)\n",
    "            \n",
    "        sublistcount = sublistcount // 2\n",
    "            \n",
    "    return arr\n",
    "\n",
    "def gap_insertion_sort(arr, start, gap):\n",
    "    for i in range(start+gap, len(arr), gap):\n",
    "        currentvalue = arr[i]\n",
    "        position = i\n",
    "        \n",
    "        while position >= gap and arr[position-gap] > currentvalue:\n",
    "            \n",
    "            arr[position] = arr[position-gap]\n",
    "            position = position-gap\n",
    "            \n",
    "        arr[position] = currentvalue\n",
    "            \n",
    "            \n",
    "    \n"
   ]
  },
  {
   "cell_type": "code",
   "execution_count": 35,
   "metadata": {},
   "outputs": [
    {
     "data": {
      "text/plain": [
       "[1, 1, 2, 3, 4, 7, 9, 44]"
      ]
     },
     "execution_count": 35,
     "metadata": {},
     "output_type": "execute_result"
    }
   ],
   "source": [
    "shell_sort([2,1,7,3,9,44,1,4])\n"
   ]
  },
  {
   "cell_type": "code",
   "execution_count": 36,
   "metadata": {},
   "outputs": [
    {
     "data": {
      "text/plain": [
       "[1, 1, 2, 3, 4, 7, 9, 44, 50]"
      ]
     },
     "execution_count": 36,
     "metadata": {},
     "output_type": "execute_result"
    }
   ],
   "source": [
    "def shell_sort2(arr):\n",
    "    \n",
    "    \n",
    "    interval = 1\n",
    "    \n",
    "    \n",
    "    # determines the correct interval size based on the size of the array\n",
    "    while interval <= len(arr) // 3:\n",
    "        interval = interval * 3 + 1\n",
    "    \n",
    "    # the interval will get smaller until it is a basic insertion sort\n",
    "    while interval > 0:\n",
    "        \n",
    "        outer = interval\n",
    "        \n",
    "        # don't let the outer pointer go past the end of the array\n",
    "        while outer < len(arr):\n",
    "            \n",
    "            temp = arr[outer]\n",
    "            inner = outer\n",
    "            outer += 1\n",
    "            \n",
    "            \n",
    "            # if arr[outer - interval] spot is bigger than arr[outer], swap their places.\n",
    "            while (inner > interval-1 and arr[inner - interval] >=temp):\n",
    "                \n",
    "                # inner smaller value moves up\n",
    "                arr[inner] = arr[inner - interval]\n",
    "                \n",
    "                # update inner pointer to correct location\n",
    "                inner -= interval\n",
    "                \n",
    "                \n",
    "                \n",
    "            # outer value moves down. interval fully sorted by here.\n",
    "            arr[inner] = temp\n",
    "            \n",
    "        interval = (interval-1) // 3\n",
    "        \n",
    "                \n",
    "    return arr\n",
    "\n",
    "\n",
    "shell_sort2([2,1,7,3,9,44,50,1,4])\n",
    "    "
   ]
  },
  {
   "cell_type": "markdown",
   "metadata": {},
   "source": [
    "### Practice, Practice, Practice\n",
    "Shell sort:"
   ]
  },
  {
   "cell_type": "code",
   "execution_count": null,
   "metadata": {},
   "outputs": [],
   "source": []
  },
  {
   "cell_type": "code",
   "execution_count": null,
   "metadata": {},
   "outputs": [],
   "source": []
  },
  {
   "cell_type": "code",
   "execution_count": null,
   "metadata": {},
   "outputs": [],
   "source": []
  }
 ],
 "metadata": {
  "kernelspec": {
   "display_name": "Python 3",
   "language": "python",
   "name": "python3"
  },
  "language_info": {
   "codemirror_mode": {
    "name": "ipython",
    "version": 3
   },
   "file_extension": ".py",
   "mimetype": "text/x-python",
   "name": "python",
   "nbconvert_exporter": "python",
   "pygments_lexer": "ipython3",
   "version": "3.6.3"
  }
 },
 "nbformat": 4,
 "nbformat_minor": 2
}
