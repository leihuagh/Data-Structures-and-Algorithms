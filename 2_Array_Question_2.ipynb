{
 "cells": [
  {
   "cell_type": "markdown",
   "metadata": {},
   "source": [
    "### Mike Basdeo\n",
    "# Array Pair Sum\n",
    "## Given an integer array, output all the unique pairs that sum up to a specific value k. So the input: \n",
    "## $\\text{pair_sum}([1,2,3,4],4)$\n",
    "## would return 2 pairs:\n",
    "## $(1,3),(2,2)$"
   ]
  },
  {
   "cell_type": "markdown",
   "metadata": {},
   "source": [
    "## Solution - 1 Nested For loops\n",
    "### For each value in the array, check against all other values to see if they return the correct sum. Sort the pairs as they are found, and then convert the list into a unique set. $O(n^2)$"
   ]
  },
  {
   "cell_type": "code",
   "execution_count": 3,
   "metadata": {},
   "outputs": [],
   "source": [
    "def arrayPairSumSolver1(integer_array, value):\n",
    "    integer_array = integer_array\n",
    "    value = value\n",
    "    solution_list = []\n",
    "    \n",
    "    for x in integer_array:\n",
    "        for y in integer_array:\n",
    "            if x + y == value:\n",
    "                solution_list.append((min(x,y), max(x,y)))\n",
    "\n",
    "    return(len(set(solution_list)))"
   ]
  },
  {
   "cell_type": "markdown",
   "metadata": {},
   "source": [
    "## Solution - 2 Using Sets\n",
    "### Insert and find operations on sets are average $O(1)$, which makes this solution $O(n)$.\n",
    "### Walk through the integer array and have two sets (handling the unique pair part of the problem) that will be populated during the array traversal. For each number visited, calculate who their friend is, then check if their friend is in the set of seen numbers. Add matching pairs to an output set, and put everyone in the seen set."
   ]
  },
  {
   "cell_type": "code",
   "execution_count": 4,
   "metadata": {},
   "outputs": [],
   "source": [
    "def arrayPairSumSolver2(integer_array, value):\n",
    "    \n",
    "    # Edge case\n",
    "    if len(integer_array) < 2:\n",
    "        return False\n",
    "    \n",
    "    seen = set()\n",
    "    output = set()\n",
    "\n",
    "    for current_number in integer_array:\n",
    "        \n",
    "        #who's your friend?\n",
    "        friend = value - current_number\n",
    "        \n",
    "        #what if I'm my own friend??\n",
    "        if current_number * 2 == value:\n",
    "            output.add((current_number, current_number))\n",
    "        \n",
    "        #check if friend is in our existing set\n",
    "        if friend in seen:\n",
    "            output.add((min(current_number, friend),max(current_number, friend)))\n",
    "        \n",
    "        #everybody gets seen.\n",
    "        seen.add(current_number)\n",
    "\n",
    "    return(len(output))"
   ]
  },
  {
   "cell_type": "code",
   "execution_count": 7,
   "metadata": {},
   "outputs": [
    {
     "name": "stdout",
     "output_type": "stream",
     "text": [
      "Unique Pairs Found!\n",
      "Unique Pairs Found!\n"
     ]
    }
   ],
   "source": [
    "from nose.tools import assert_equal\n",
    "\n",
    "class ArrayPairSumTester(object):\n",
    "    def test(self, solution):\n",
    "        assert_equal(solution([1,2,3,4],4), 2)\n",
    "        assert_equal(solution([1,3,2,2],4), 2)\n",
    "        assert_equal(solution([1,9,2,8,3,7,4,6,5,5,13,14,11,13,-1],10), 6)\n",
    "        print(\"Unique Pairs Found!\")\n",
    "# Run tests\n",
    "t = ArrayPairSumTester()\n",
    "t.test(arrayPairSumSolver1)\n",
    "t.test(arrayPairPractice)\n",
    "\n"
   ]
  },
  {
   "cell_type": "markdown",
   "metadata": {},
   "source": [
    "### Practice, Practice, Practice\n",
    "Given an integer array, output all the unique pairs that sum up to a specific value k. So the input:\n",
    "pair_sum([1,2,3,4],4)pair_sum([1,2,3,4],4) \n",
    "would return 2 pairs:\n",
    "(1,3),(2,2)"
   ]
  }
 ],
 "metadata": {
  "kernelspec": {
   "display_name": "Python 3",
   "language": "python",
   "name": "python3"
  },
  "language_info": {
   "codemirror_mode": {
    "name": "ipython",
    "version": 3
   },
   "file_extension": ".py",
   "mimetype": "text/x-python",
   "name": "python",
   "nbconvert_exporter": "python",
   "pygments_lexer": "ipython3",
   "version": "3.6.3"
  }
 },
 "nbformat": 4,
 "nbformat_minor": 2
}
