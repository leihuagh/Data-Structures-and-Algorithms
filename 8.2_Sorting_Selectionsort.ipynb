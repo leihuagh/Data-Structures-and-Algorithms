{
 "cells": [
  {
   "cell_type": "markdown",
   "metadata": {},
   "source": [
    "# Selection Sort\n",
    "\n",
    "- Improvement of bubblesort, but the runtime is $O(n^2)$. It minimizes the number of swaps.\n",
    "- No difference if data is sorted or unsorted.\n",
    "- Look for the largest value and put it in the correct location."
   ]
  },
  {
   "cell_type": "code",
   "execution_count": 30,
   "metadata": {},
   "outputs": [],
   "source": [
    "# keep a running max, and count down as you put things at the end.\n",
    "def selection_sort(arr):\n",
    "    \n",
    "    for fill_slot in range(len(arr)-1, 0, -1):\n",
    "        position_of_max = 0\n",
    "        \n",
    "        for location in range(1, fill_slot+1):\n",
    "            \n",
    "            if arr[location] > arr[position_of_max]:\n",
    "                position_of_max = location\n",
    "        \n",
    "        temp = arr[fill_slot]\n",
    "        arr[fill_slot] = arr[position_of_max]\n",
    "        arr[position_of_max] = temp\n",
    "        \n",
    "    return arr"
   ]
  },
  {
   "cell_type": "code",
   "execution_count": 31,
   "metadata": {},
   "outputs": [
    {
     "data": {
      "text/plain": [
       "[1, 1, 2, 3, 4, 7, 9, 44]"
      ]
     },
     "execution_count": 31,
     "metadata": {},
     "output_type": "execute_result"
    }
   ],
   "source": [
    "arr = [2,1,7,3,9,44,1,4]\n",
    "selection_sort(arr)"
   ]
  }
 ],
 "metadata": {
  "kernelspec": {
   "display_name": "Python 3",
   "language": "python",
   "name": "python3"
  },
  "language_info": {
   "codemirror_mode": {
    "name": "ipython",
    "version": 3
   },
   "file_extension": ".py",
   "mimetype": "text/x-python",
   "name": "python",
   "nbconvert_exporter": "python",
   "pygments_lexer": "ipython3",
   "version": "3.6.3"
  }
 },
 "nbformat": 4,
 "nbformat_minor": 2
}
