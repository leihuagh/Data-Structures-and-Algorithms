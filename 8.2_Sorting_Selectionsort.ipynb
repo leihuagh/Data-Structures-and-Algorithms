{
 "cells": [
  {
   "cell_type": "markdown",
   "metadata": {},
   "source": [
    "# Selection Sort\n",
    "\n",
    "- Improvement of bubblesort, but the runtime is still $O(n^2)$. The improvement is that it minimizes the number of swaps.\n",
    "- No difference if data is sorted or unsorted.\n",
    "- Look for the largest value and put it in the correct location."
   ]
  },
  {
   "cell_type": "markdown",
   "metadata": {},
   "source": [
    "### Implementation 1 - Sort by max number"
   ]
  },
  {
   "cell_type": "code",
   "execution_count": 13,
   "metadata": {},
   "outputs": [],
   "source": [
    "# keep a running max, and count down as you put things at the end.\n",
    "def selection_sort(arr):\n",
    "    \n",
    "    for fill_slot in range(len(arr)-1, 0, -1):\n",
    "        position_of_max = 0\n",
    "        \n",
    "        for location in range(1, fill_slot+1):\n",
    "            \n",
    "            if arr[location] > arr[position_of_max]:\n",
    "                position_of_max = location\n",
    "        \n",
    "        temp = arr[fill_slot]\n",
    "        arr[fill_slot] = arr[position_of_max]\n",
    "        arr[position_of_max] = temp\n",
    "        \n",
    "    return arr"
   ]
  },
  {
   "cell_type": "code",
   "execution_count": 14,
   "metadata": {},
   "outputs": [
    {
     "data": {
      "text/plain": [
       "[1, 1, 2, 3, 4, 7, 9, 44]"
      ]
     },
     "execution_count": 14,
     "metadata": {},
     "output_type": "execute_result"
    }
   ],
   "source": [
    "arr = [2,1,7,3,9,44,1,4]\n",
    "selection_sort(arr)"
   ]
  },
  {
   "cell_type": "markdown",
   "metadata": {},
   "source": [
    "### Implementation 2 - Sort by min number"
   ]
  },
  {
   "cell_type": "code",
   "execution_count": 7,
   "metadata": {},
   "outputs": [
    {
     "data": {
      "text/plain": [
       "[1, 1, 2, 3, 4, 7, 9, 44]"
      ]
     },
     "execution_count": 7,
     "metadata": {},
     "output_type": "execute_result"
    }
   ],
   "source": [
    "# traverse through all array elements\n",
    "def selection_sort2(arr):\n",
    "\n",
    "    for i in range(len(arr)):\n",
    "        # find the min element in remaining unsorted array\n",
    "        min_pos = i\n",
    "        for j in range(i+1, len(arr)):\n",
    "            if arr[min_pos] > arr[j]:\n",
    "                min_pos = j\n",
    "        # swap found min element with first element\n",
    "        arr[i], arr[min_pos] = arr[min_pos], arr[i]\n",
    "    return arr\n",
    "    \n",
    "\n",
    "selection_sort2([2,1,7,3,9,44,1,4])"
   ]
  },
  {
   "cell_type": "markdown",
   "metadata": {},
   "source": [
    "### Practice, Practice, Practice\n",
    "\n",
    "</br>\n",
    "</br>\n",
    "</br>\n",
    "</br></br></br></br>\n",
    "\n",
    "SelectionSort"
   ]
  }
 ],
 "metadata": {
  "kernelspec": {
   "display_name": "Python 3",
   "language": "python",
   "name": "python3"
  },
  "language_info": {
   "codemirror_mode": {
    "name": "ipython",
    "version": 3
   },
   "file_extension": ".py",
   "mimetype": "text/x-python",
   "name": "python",
   "nbconvert_exporter": "python",
   "pygments_lexer": "ipython3",
   "version": "3.6.3"
  }
 },
 "nbformat": 4,
 "nbformat_minor": 2
}
