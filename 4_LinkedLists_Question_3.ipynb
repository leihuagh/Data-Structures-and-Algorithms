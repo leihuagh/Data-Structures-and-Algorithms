{
 "cells": [
  {
   "cell_type": "markdown",
   "metadata": {},
   "source": [
    "# Linked List Nth to Last Node\n",
    "## Write a function that takes a head node and an integer value $n$ and then returns the $n^{\\text{th}}$ to last node in the linked list.\n"
   ]
  },
  {
   "cell_type": "markdown",
   "metadata": {},
   "source": [
    "### Solution 1\n",
    "Have one pointer traverse up until the value requested. Then start the other pointer moving as well. Wherever the trailing pointer ends up, that's your number."
   ]
  },
  {
   "cell_type": "code",
   "execution_count": 160,
   "metadata": {},
   "outputs": [],
   "source": [
    "class Node(object):\n",
    "    \n",
    "    def __init__(self, data=None):\n",
    "        self.data = data\n",
    "        self.next = None\n",
    "\n",
    "class LinkedList(object):\n",
    "    \n",
    "    def __init__(self):\n",
    "        self.head = None\n",
    "    \n",
    "    def addToHead(self, data):\n",
    "        newNode = Node(data)\n",
    "        if self.head == None:\n",
    "            self.head = newNode\n",
    "        else:\n",
    "            newNode.next = self.head\n",
    "            self.head = newNode\n",
    "            \n",
    "    def printList(self):\n",
    "        printable = []\n",
    "        currentNode = self.head\n",
    "        while currentNode:\n",
    "            printable.append(currentNode.data)\n",
    "            currentNode = currentNode.next\n",
    "        print(printable)\n",
    "    \n",
    "    def findN(self, n):\n",
    "        current = self.head\n",
    "        ahead = self.head\n",
    "        for x in range(n-1):\n",
    "            \n",
    "            if ahead.next:\n",
    "                ahead = ahead.next\n",
    "            else:\n",
    "                raise LookupError(\"n is larger than list\")\n",
    "                \n",
    "        while ahead.next:\n",
    "            current = current.next\n",
    "            ahead = ahead.next\n",
    "        print(n,\"th number = \", current.data)\n",
    "        return current.data\n",
    "        "
   ]
  },
  {
   "cell_type": "code",
   "execution_count": 161,
   "metadata": {},
   "outputs": [
    {
     "name": "stdout",
     "output_type": "stream",
     "text": [
      "[11, 21, 14, 6, 9, 8, 6, 4, 2]\n",
      "4 th number =  8\n",
      "8 th number =  21\n",
      "Tests Pass!\n"
     ]
    }
   ],
   "source": [
    "from nose.tools import assert_equal\n",
    "from nose.tools import assert_raises\n",
    "\n",
    "L1 = LinkedList()\n",
    "\n",
    "L1.addToHead(2)\n",
    "L1.addToHead(4)\n",
    "L1.addToHead(6)\n",
    "L1.addToHead(8)\n",
    "L1.addToHead(9)\n",
    "L1.addToHead(6)\n",
    "L1.addToHead(14)\n",
    "L1.addToHead(21)\n",
    "L1.addToHead(11)\n",
    "L1.printList()\n",
    "\n",
    "class LinkedListFindTester(object):\n",
    "    \n",
    "    def test(self, myList):\n",
    "        assert_equal(L1.findN(4), 8)\n",
    "        assert_equal(L1.findN(8), 21)\n",
    "        print(\"Tests Pass!\")\n",
    "\n",
    "t = LinkedListFindTester()\n",
    "t.test(L1)"
   ]
  },
  {
   "cell_type": "markdown",
   "metadata": {},
   "source": [
    "### Practice, Practice, Practice\n",
    " Write a function that takes a head node and an integer value $n$ and then returns the $n^{\\text{th}}$ to last node in the linked list."
   ]
  }
 ],
 "metadata": {
  "kernelspec": {
   "display_name": "Python 3",
   "language": "python",
   "name": "python3"
  },
  "language_info": {
   "codemirror_mode": {
    "name": "ipython",
    "version": 3
   },
   "file_extension": ".py",
   "mimetype": "text/x-python",
   "name": "python",
   "nbconvert_exporter": "python",
   "pygments_lexer": "ipython3",
   "version": "3.6.3"
  }
 },
 "nbformat": 4,
 "nbformat_minor": 2
}
