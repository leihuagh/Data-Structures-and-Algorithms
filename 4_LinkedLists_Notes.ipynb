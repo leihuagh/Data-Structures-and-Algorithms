{
 "cells": [
  {
   "cell_type": "markdown",
   "metadata": {},
   "source": [
    "# Linked Lists\n",
    "\n",
    "## Simgly Linked List\n",
    "A collection of nodes that collectively forms a linear sequence. Each node stores a reference to an object that is an element of the sequence, as well as a reference to the next node of the list.\n",
    "\n",
    "\n",
    "### Inserting at Head\n",
    "* Create new node\n",
    "* Set element to the new element\n",
    "* Set next link to refer to current head\n",
    "* Set lists's head to point to new node\n",
    "\n",
    "### Inserting at tail\n",
    "* Create a new node\n",
    "* Assign its next reference to none\n",
    "* Set next reference of tail to point to new node\n",
    "* Update tail reference to new node\n",
    "\n",
    "### Notes\n",
    "* Insertion and deletion are both $O(1)$ if a pointer is kept at the head and the tail.\n",
    "* Removal is $O(1)$ only if you have a reference to the one you want to delete AND the one before."
   ]
  },
  {
   "cell_type": "markdown",
   "metadata": {},
   "source": [
    "## Linked List Implementation"
   ]
  },
  {
   "cell_type": "code",
   "execution_count": 844,
   "metadata": {},
   "outputs": [],
   "source": [
    "class Node(object):\n",
    "    def __init__(self, data=None):\n",
    "        self.data = data\n",
    "        self.next = None\n",
    "        \n",
    "class LinkedList(object):\n",
    "    def __init__(self):\n",
    "        self.head = Node()\n",
    "    \n",
    "    def print_head(self):\n",
    "        list_to_print = []\n",
    "        current_node = self.head\n",
    "        while current_node.next != None:\n",
    "            list_to_print.append(current_node.data)\n",
    "            current_node = current_node.next\n",
    "        list_to_print.append(current_node.data)\n",
    "        print(list_to_print)\n",
    "\n",
    "        \n",
    "    def add_to_tail(self, data):\n",
    "        new_node = Node(data)\n",
    "        if self.head.data == None:\n",
    "            self.head = new_node\n",
    "        else:\n",
    "            current_node = self.head\n",
    "            while current_node.next != None:\n",
    "                current_node = current_node.next\n",
    "            current_node.next = new_node\n",
    "            \n",
    "    def add_to_head(self, data):\n",
    "        new_node = Node(data)\n",
    "        if self.head.data == None:\n",
    "            self.head = new_node\n",
    "        else:\n",
    "            new_node.next = self.head\n",
    "            self.head = new_node"
   ]
  },
  {
   "cell_type": "markdown",
   "metadata": {},
   "source": [
    "## Doubly Linked List Implementation\n",
    "* Adding to both the tail and head now take $O(1)$ because we have pointers for both.\n",
    "* Removal is $O(1)$ if we have a pointer to the node to remove.\n"
   ]
  },
  {
   "cell_type": "code",
   "execution_count": 849,
   "metadata": {},
   "outputs": [],
   "source": [
    "class DNode(object):\n",
    "    def __init__(self, data=None):\n",
    "        self.data = data\n",
    "        self.next = None\n",
    "        self.prev = None\n",
    "        \n",
    "        \n",
    "class DLinkedList(object):\n",
    "    def __init__(self):\n",
    "        self.head = DNode()\n",
    "        self.tail = DNode()\n",
    "        \n",
    "    def addToHead(self, data):\n",
    "        newNode = DNode(data)\n",
    "        if self.head.data == None:\n",
    "            self.head = newNode\n",
    "            self.tail = self.head\n",
    "        else:\n",
    "            newNode.next = self.head\n",
    "            self.head.prev = newNode\n",
    "            self.head = newNode\n",
    "                 \n",
    "    def addToTail(self, data):\n",
    "        newNode = DNode(data)\n",
    "        if self.tail.data == None:\n",
    "            self.tail = newNode\n",
    "            self.head = self.tail\n",
    "        else:\n",
    "            newNode.prev = self.tail\n",
    "            self.tail.next = newNode\n",
    "            self.tail = newNode\n",
    "        \n",
    "    def printList(self):\n",
    "        listToPrint = []\n",
    "        currentNode = self.head\n",
    "        while currentNode != None:\n",
    "            listToPrint.append(currentNode.data)\n",
    "            currentNode = currentNode.next\n",
    "        print(listToPrint)\n",
    "            \n",
    "            \n"
   ]
  },
  {
   "cell_type": "code",
   "execution_count": 846,
   "metadata": {},
   "outputs": [],
   "source": [
    "myList = DLinkedList()"
   ]
  },
  {
   "cell_type": "code",
   "execution_count": 850,
   "metadata": {},
   "outputs": [
    {
     "name": "stdout",
     "output_type": "stream",
     "text": [
      "[1, 2, 3, 1, 2, 3, 4, 5, 4, 5]\n"
     ]
    }
   ],
   "source": [
    "myList.addToHead(3)\n",
    "myList.addToHead(2)\n",
    "myList.addToTail(4)\n",
    "myList.addToTail(5)\n",
    "myList.addToHead(1)\n",
    "myList.printList()\n",
    "\n"
   ]
  },
  {
   "cell_type": "code",
   "execution_count": 848,
   "metadata": {},
   "outputs": [
    {
     "name": "stdout",
     "output_type": "stream",
     "text": [
      "[1, 2, 3, 4, 5]\n"
     ]
    }
   ],
   "source": []
  },
  {
   "cell_type": "code",
   "execution_count": null,
   "metadata": {},
   "outputs": [],
   "source": []
  },
  {
   "cell_type": "code",
   "execution_count": null,
   "metadata": {},
   "outputs": [],
   "source": []
  },
  {
   "cell_type": "code",
   "execution_count": null,
   "metadata": {},
   "outputs": [],
   "source": []
  }
 ],
 "metadata": {
  "kernelspec": {
   "display_name": "Python 3",
   "language": "python",
   "name": "python3"
  },
  "language_info": {
   "codemirror_mode": {
    "name": "ipython",
    "version": 3
   },
   "file_extension": ".py",
   "mimetype": "text/x-python",
   "name": "python",
   "nbconvert_exporter": "python",
   "pygments_lexer": "ipython3",
   "version": "3.6.3"
  }
 },
 "nbformat": 4,
 "nbformat_minor": 2
}
