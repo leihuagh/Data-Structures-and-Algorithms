{
 "cells": [
  {
   "cell_type": "markdown",
   "metadata": {},
   "source": [
    "# Binary Heap"
   ]
  },
  {
   "cell_type": "markdown",
   "metadata": {},
   "source": [
    "A binary heap is a binary tree with two additional constraints\n",
    "1. Shape Property - The binary heap is a complete binary tree. All levels of the tree are filled except the last, which must be filled from left to right.\n",
    "2. Heap Property - Key stored in each node is $\\leq$(MinHeap) or $\\geq$(MaxHeap) to the keys in the node's children.\n",
    "\n",
    "An array is suitable for building a complete binary tree because all the node indexes can be calculated. $2p , 2p+1$\n",
    "\n",
    "Building a heap can be done in $O(n)$."
   ]
  },
  {
   "cell_type": "code",
   "execution_count": 19,
   "metadata": {},
   "outputs": [],
   "source": [
    "class BinaryHeap(object):\n",
    "    def __init__(self):\n",
    "        self.heapList = [0]\n",
    "        self.currentSize = 0\n",
    "      \n",
    "    # adds a new item to the heap, calls percUp to find the correct place for new item.\n",
    "    def insert(self, value):\n",
    "        self.heapList.append(k)\n",
    "        self.currentSize = self.currentSize + 1\n",
    "        self.percUp(self.currentSize)\n",
    "        \n",
    "    def percUp(self, i):\n",
    "        while i // 2 > 0:\n",
    "            if self.heapList[i] < self.heapList[i//2]:\n",
    "                # percolate up\n",
    "                temp = self.heapList[i//2]\n",
    "                self.heapList[i//2] = self.heapList[i]\n",
    "                self.heapList[i] = temp\n",
    "            i = i // 2\n",
    "                    \n",
    "    def percDown(self, i):\n",
    "        while i * 2 <= self.currentSize:\n",
    "            \n",
    "            minchild = self.minChild(i)\n",
    "            \n",
    "            if self.heapList[i] > self.heapList[minchild]:\n",
    "                # percolate down\n",
    "                temp = self.heapList[i]\n",
    "                self.heapList[i] = self.heapList[minchild]\n",
    "                self.heapList[minchild] = tmp\n",
    "            i = mc\n",
    "            \n",
    "            \n",
    "    def minChild(self, i):\n",
    "        if i * 2 + 1 > self.currentSize:\n",
    "            return i *2\n",
    "        else:\n",
    "            if self.heapList[i*2] < self.heapList[i+2 + 1]:\n",
    "                return i *2\n",
    "            else:\n",
    "                return i * 2 + 1\n",
    "            \n",
    "    def delMin(self):\n",
    "        returnvalue = self.heapList[1]\n",
    "        self.heapList[1] = self.heapList.currentSize\n",
    "        self.currentSize = self.currentSize -1\n",
    "        self.heapList.pop()\n",
    "        self.percDown(1)\n",
    "        return returnvalue\n",
    "\n",
    "    def buildHeap(self, alist):\n",
    "        i = len(alist) // 2\n",
    "        self.currentSize = len(alist)\n",
    "        self.heapList = [0] + alist[:]\n",
    "        while (i > 0):\n",
    "            self.percDown(i)\n",
    "            i = i -1\n",
    "        "
   ]
  },
  {
   "cell_type": "code",
   "execution_count": null,
   "metadata": {},
   "outputs": [],
   "source": []
  },
  {
   "cell_type": "code",
   "execution_count": null,
   "metadata": {},
   "outputs": [],
   "source": []
  }
 ],
 "metadata": {
  "kernelspec": {
   "display_name": "Python 3",
   "language": "python",
   "name": "python3"
  },
  "language_info": {
   "codemirror_mode": {
    "name": "ipython",
    "version": 3
   },
   "file_extension": ".py",
   "mimetype": "text/x-python",
   "name": "python",
   "nbconvert_exporter": "python",
   "pygments_lexer": "ipython3",
   "version": "3.6.3"
  }
 },
 "nbformat": 4,
 "nbformat_minor": 2
}
