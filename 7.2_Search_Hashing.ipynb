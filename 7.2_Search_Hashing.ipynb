{
 "cells": [
  {
   "cell_type": "markdown",
   "metadata": {},
   "source": [
    "# Hashing\n",
    "- Hashing\n",
    "    - Given an ordered list, we can search in $O(1)$ by using hashing. </br>\n",
    "    - A hash function that maps each item into a unique slot is called a 'perfect hash function'\n",
    "- Hash Tables\n",
    "    - Load Factor: $\\lambda = \\frac{\\text{numOfItems}}{\\text{tablesize}}$\n",
    "- Hash Functions\n",
    "    - use hash functions to compute the correct slot\n",
    "    - Ideally, minimize collsions.\n",
    "    - Folding Method (divide item into equal pieces, add, then mod to find its slot)\n",
    "    - Mid Square Method (square item and extract some portion of the result and mod it)\n",
    "    - For strings, you can use ordinal values\n",
    "- Collision Resolution\n",
    "    - Linear Probing: sequentially find the next open slot when a collision occurs\n",
    "    - Quadratic Probing: incrementally increase the skip value.\n",
    "    - Chaining: Allow many items to exist at the same location in the hash table."
   ]
  },
  {
   "cell_type": "markdown",
   "metadata": {},
   "source": [
    "### Implementing a hash table with basic remainder rehashing"
   ]
  },
  {
   "cell_type": "code",
   "execution_count": 31,
   "metadata": {},
   "outputs": [],
   "source": [
    "class HashTable(object):\n",
    "    def __init__(self, size):\n",
    "        self.size = size\n",
    "        self.slots = [None] * self.size\n",
    "        self.data = [None] * self.size\n",
    "        \n",
    "        \n",
    "    def __getitem__(self, key):\n",
    "        return self.get(key)\n",
    "    \n",
    "    def __setitem__(self, key, data):\n",
    "        self.put(key, data)\n",
    "        \n",
    "        \n",
    "    def put(self, key, data):\n",
    "        \n",
    "        hash_value = self.hash_function(key, len(self.slots))\n",
    "        \n",
    "        if self.slots[hash_value] == None:\n",
    "            self.slots[hash_value] = key\n",
    "            self.data[hash_value] = data\n",
    "        else:\n",
    "            # replace old value if key matches\n",
    "            if self.slots[hash_value] == key:\n",
    "                self.data[hash_value] = data\n",
    "                \n",
    "            # or try to find a new spot using rehash\n",
    "            else:\n",
    "                next_hash = self.rehash(hash_value, len(self.slots))\n",
    "                \n",
    "                while self.slots[next_hash] != None and self.slots[next_hash] != key:\n",
    "                    next_hash = self.rehash(next_hash, len(self.slots))\n",
    "                    \n",
    "                if self.slots[next_hash] == None:\n",
    "                    self.slots[next_hash] = key\n",
    "                    self.data[next_hash] = data\n",
    "                else:\n",
    "                    self.data[next_hash] = data\n",
    "        \n",
    "    def get(self, key):\n",
    "        \n",
    "        start_slot = self.hash_function(key, len(self.slots))\n",
    "        data = None\n",
    "        stop = False\n",
    "        found = False\n",
    "        position = start_slot\n",
    "        \n",
    "        while self.slots[position] != None and not found and not stop:\n",
    "            \n",
    "            if self.slots[position] == key:\n",
    "                found = True\n",
    "                data = self.data[position]\n",
    "            else:\n",
    "                position = self.rehash(position, len(self.slots))\n",
    "                if position == startslot:\n",
    "                    stop = True\n",
    "        return data\n",
    "        \n",
    "        \n",
    "    def hash_function(self, key, size):\n",
    "        return key % size\n",
    "    \n",
    "    def rehash(self, old_hash, size):\n",
    "        return(old_hash + 1) % size    "
   ]
  },
  {
   "cell_type": "code",
   "execution_count": 28,
   "metadata": {},
   "outputs": [],
   "source": [
    "h = HashTable(5)\n",
    "h[1] = \"one\"\n",
    "h[2] = \"two\"\n",
    "h[3] = \"three\""
   ]
  },
  {
   "cell_type": "code",
   "execution_count": 29,
   "metadata": {},
   "outputs": [
    {
     "data": {
      "text/plain": [
       "'three'"
      ]
     },
     "execution_count": 29,
     "metadata": {},
     "output_type": "execute_result"
    }
   ],
   "source": [
    "h[3]"
   ]
  }
 ],
 "metadata": {
  "kernelspec": {
   "display_name": "Python 3",
   "language": "python",
   "name": "python3"
  },
  "language_info": {
   "codemirror_mode": {
    "name": "ipython",
    "version": 3
   },
   "file_extension": ".py",
   "mimetype": "text/x-python",
   "name": "python",
   "nbconvert_exporter": "python",
   "pygments_lexer": "ipython3",
   "version": "3.6.3"
  }
 },
 "nbformat": 4,
 "nbformat_minor": 2
}
