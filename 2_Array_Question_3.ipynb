{
 "cells": [
  {
   "cell_type": "markdown",
   "metadata": {},
   "source": [
    "# Mike Basdeo - Find the Missing Element\n",
    "## Consider an array of non-negative integers. A second array is formed by shuffling the elements fo the fist array and deleting a random element. Given these two arrays, find which element is missing in the second array. Here is an example input, the first array is shuffled and the number 5 is removed to construct the second array.\n",
    "## $\\text{finder}([1,2,3,4,5,6,7], [3,7,2,1,4,6] )$"
   ]
  },
  {
   "cell_type": "markdown",
   "metadata": {},
   "source": [
    "## Solution 1 - Sorting - $O(n\\log{n})$\n",
    "### Sort both of the arrays. This will give a complexity of $O(n \\log{n})$ thanks to 'Timsort'. Once sorted, loop through and compare corresponding values. The first mismatch will mean that the missing number is in the first (longer) array."
   ]
  },
  {
   "cell_type": "code",
   "execution_count": 171,
   "metadata": {},
   "outputs": [],
   "source": [
    "def finder1(array, shuffled_array):\n",
    "    \n",
    "    array.sort()\n",
    "    shuffled_array.sort()\n",
    "    \n",
    "    \n",
    "    print(list(zip(array,shuffled_array)))\n",
    "    \n",
    "    for x,y in zip(array, shuffled_array):\n",
    "        if x != y:\n",
    "            return (x)"
   ]
  },
  {
   "cell_type": "code",
   "execution_count": 172,
   "metadata": {},
   "outputs": [
    {
     "name": "stdout",
     "output_type": "stream",
     "text": [
      "[(1, 1), (2, 2), (3, 3), (4, 4), (5, 6), (6, 7)]\n",
      "Number found!\n"
     ]
    }
   ],
   "source": [
    "from nose.tools import assert_equal\n",
    "\n",
    "class finderTester(object):\n",
    "    \n",
    "    \n",
    "    def test(self, solution):\n",
    "        assert_equal(solution([1,2,3,4,5,6,7],[3,7,2,1,4,6]), 5)\n",
    "        print(\"Number found!\")\n",
    "\n",
    "t = finderTester()\n",
    "t.test(finder1)"
   ]
  },
  {
   "cell_type": "code",
   "execution_count": null,
   "metadata": {},
   "outputs": [],
   "source": []
  },
  {
   "cell_type": "code",
   "execution_count": null,
   "metadata": {},
   "outputs": [],
   "source": []
  },
  {
   "cell_type": "code",
   "execution_count": null,
   "metadata": {},
   "outputs": [],
   "source": []
  }
 ],
 "metadata": {
  "kernelspec": {
   "display_name": "Python 3",
   "language": "python",
   "name": "python3"
  },
  "language_info": {
   "codemirror_mode": {
    "name": "ipython",
    "version": 3
   },
   "file_extension": ".py",
   "mimetype": "text/x-python",
   "name": "python",
   "nbconvert_exporter": "python",
   "pygments_lexer": "ipython3",
   "version": "3.6.4"
  }
 },
 "nbformat": 4,
 "nbformat_minor": 2
}
