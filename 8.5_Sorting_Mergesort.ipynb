{
 "cells": [
  {
   "cell_type": "markdown",
   "metadata": {},
   "source": [
    "# Merge Sort\n",
    "\n",
    "Recursive algoritm that continually splits a list in half.\n",
    "\n",
    "\n",
    "### Properties\n",
    "- The only stable O(n·lg(n)) sorting algorithm. \n",
    "- Θ(n) extra space for arrays (as shown)\n",
    "- Θ(lg(n)) extra space for linked lists\n",
    "- Θ(n·lg(n)) time\n",
    "- Not adaptive\n",
    "- Does not require random access to data"
   ]
  },
  {
   "cell_type": "code",
   "execution_count": 9,
   "metadata": {},
   "outputs": [
    {
     "data": {
      "text/plain": [
       "[1, 1, 2, 3, 4, 7, 9, 44]"
      ]
     },
     "execution_count": 9,
     "metadata": {},
     "output_type": "execute_result"
    }
   ],
   "source": [
    "def merge_sort(arr):\n",
    "    \n",
    "    if len(arr) > 1:\n",
    "        \n",
    "        mid = len(arr)//2\n",
    "        lefthalf = arr[:mid] \n",
    "        righthalf = arr[mid:]\n",
    "        \n",
    "        # recursive call\n",
    "        merge_sort(lefthalf)\n",
    "        merge_sort(righthalf)\n",
    "        \n",
    "        # left tracker\n",
    "        i=0\n",
    "        # right tracker\n",
    "        j=0\n",
    "        # final array counter\n",
    "        k=0\n",
    "        \n",
    "        # First, repeatedly sort sublists recursively from lowest to highest.\n",
    "        while i < len(lefthalf) and j < len(righthalf):\n",
    "            if lefthalf[i] < righthalf[j]:\n",
    "                arr[k] = lefthalf[i]\n",
    "                i+=1\n",
    "            else:\n",
    "                arr[k] = righthalf[j]\n",
    "                j+=1\n",
    "            k+=1\n",
    "        \n",
    "        # Next, merge the two sorted sublists\n",
    "        while i < len(lefthalf):\n",
    "            arr[k] = lefthalf[i]\n",
    "            i += 1\n",
    "            k += 1\n",
    "            \n",
    "        while j < len(righthalf):\n",
    "            arr[k] = righthalf[j]\n",
    "            j+=1\n",
    "            k+=1\n",
    "                      \n",
    "    return arr\n",
    "                \n",
    "                                            \n",
    "merge_sort([2,1,7,3,9,44,1,4])"
   ]
  },
  {
   "cell_type": "code",
   "execution_count": null,
   "metadata": {},
   "outputs": [],
   "source": []
  },
  {
   "cell_type": "code",
   "execution_count": null,
   "metadata": {},
   "outputs": [],
   "source": []
  }
 ],
 "metadata": {
  "kernelspec": {
   "display_name": "Python 3",
   "language": "python",
   "name": "python3"
  },
  "language_info": {
   "codemirror_mode": {
    "name": "ipython",
    "version": 3
   },
   "file_extension": ".py",
   "mimetype": "text/x-python",
   "name": "python",
   "nbconvert_exporter": "python",
   "pygments_lexer": "ipython3",
   "version": "3.6.3"
  }
 },
 "nbformat": 4,
 "nbformat_minor": 2
}
