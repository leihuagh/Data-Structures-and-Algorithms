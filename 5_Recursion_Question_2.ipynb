{
 "cells": [
  {
   "cell_type": "markdown",
   "metadata": {},
   "source": [
    "# String Permutation\n",
    "## Given a string, write a function that uses recursion to output a list of all the possible permutations of that string\n"
   ]
  },
  {
   "cell_type": "code",
   "execution_count": 55,
   "metadata": {},
   "outputs": [
    {
     "data": {
      "text/plain": [
       "['abc', 'acb', 'bac', 'bca', 'cab', 'cba']"
      ]
     },
     "execution_count": 55,
     "metadata": {},
     "output_type": "execute_result"
    }
   ],
   "source": [
    "def permute(s):\n",
    "    out = []\n",
    "    \n",
    "    # Base Case\n",
    "    if len(s) == 1:\n",
    "        out = [s]\n",
    "        \n",
    "    else:\n",
    "        # For every letter in string\n",
    "        for i, let in enumerate(s):\n",
    "            \n",
    "            # For every permutation...\n",
    "            for perm in permute(s[:i] + s[i+1:]):\n",
    "                # Add it to output\n",
    "                out += [let + perm]\n",
    "\n",
    "    return (out)\n",
    "permute(\"abc\")"
   ]
  },
  {
   "cell_type": "code",
   "execution_count": null,
   "metadata": {},
   "outputs": [],
   "source": [
    "from nose.tools import assert_equal\n"
   ]
  },
  {
   "cell_type": "markdown",
   "metadata": {},
   "source": [
    "### Practice, Practice, Practice\n",
    "Given a string, write a function that uses recursion to output a list of all the possible permutations of that string"
   ]
  },
  {
   "cell_type": "code",
   "execution_count": 65,
   "metadata": {},
   "outputs": [
    {
     "data": {
      "text/plain": [
       "['mike',\n",
       " 'miek',\n",
       " 'mkie',\n",
       " 'mkei',\n",
       " 'meik',\n",
       " 'meki',\n",
       " 'imke',\n",
       " 'imek',\n",
       " 'ikme',\n",
       " 'ikem',\n",
       " 'iemk',\n",
       " 'iekm',\n",
       " 'kmie',\n",
       " 'kmei',\n",
       " 'kime',\n",
       " 'kiem',\n",
       " 'kemi',\n",
       " 'keim',\n",
       " 'emik',\n",
       " 'emki',\n",
       " 'eimk',\n",
       " 'eikm',\n",
       " 'ekmi',\n",
       " 'ekim']"
      ]
     },
     "execution_count": 65,
     "metadata": {},
     "output_type": "execute_result"
    }
   ],
   "source": [
    "def permute2(string):\n",
    "    \n",
    "    output = []\n",
    "    # base\n",
    "    if len(string) == 1:\n",
    "        output = [string]\n",
    "    else:\n",
    "        for i, letter in enumerate(string):\n",
    "            \n",
    "            for perm in permute2(string[:i] + string[i+1:]):\n",
    "                output += [letter + perm]\n",
    "    "
   ]
  },
  {
   "cell_type": "code",
   "execution_count": null,
   "metadata": {},
   "outputs": [],
   "source": []
  },
  {
   "cell_type": "code",
   "execution_count": null,
   "metadata": {},
   "outputs": [],
   "source": []
  }
 ],
 "metadata": {
  "kernelspec": {
   "display_name": "Python 3",
   "language": "python",
   "name": "python3"
  },
  "language_info": {
   "codemirror_mode": {
    "name": "ipython",
    "version": 3
   },
   "file_extension": ".py",
   "mimetype": "text/x-python",
   "name": "python",
   "nbconvert_exporter": "python",
   "pygments_lexer": "ipython3",
   "version": "3.6.3"
  }
 },
 "nbformat": 4,
 "nbformat_minor": 2
}
