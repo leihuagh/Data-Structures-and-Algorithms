{
 "cells": [
  {
   "cell_type": "markdown",
   "metadata": {},
   "source": [
    "# Linked List Reversal\n",
    "## Write a function to reverse a linked list in place. The function will take in the head of the list as in put and return the new head of the list.\n",
    "\n"
   ]
  },
  {
   "cell_type": "markdown",
   "metadata": {},
   "source": [
    "### Solution 1 - Iterative\n",
    "1. Set previous, current, and next nodes\n",
    "2. Iterate through and change next to previous\n",
    "3. Set previous, current and next to the new values\n",
    "\n",
    "### Solution 2 - Recursion\n",
    "1. Pass head into method\n",
    "2. Base case = check if next exists\n"
   ]
  },
  {
   "cell_type": "code",
   "execution_count": 210,
   "metadata": {},
   "outputs": [],
   "source": [
    "class Node(object):\n",
    "    def __init__(self, data=None):\n",
    "        self.data = data\n",
    "        self.next = None\n",
    "        \n",
    "class LinkedList(object):\n",
    "    def __init__(self):\n",
    "        self.head = None\n",
    "        \n",
    "    def getHead(self):\n",
    "        return self.head\n",
    "    \n",
    "    def getHeadValue(self):\n",
    "        return self.head.data\n",
    "        \n",
    "    def addToHead(self, data):\n",
    "        newNode = Node(data)\n",
    "        if self.head == None:\n",
    "            self.head = newNode\n",
    "        else:\n",
    "            newNode.next = self.head\n",
    "            self.head = newNode\n",
    "            \n",
    "            \n",
    "    def printList(self):\n",
    "        printable = []\n",
    "        currentNode = self.head\n",
    "        while currentNode != None:\n",
    "            printable.append(currentNode.data)\n",
    "            currentNode = currentNode.next\n",
    "        print(printable)\n",
    "        \n",
    "    def reverseIterative(self):\n",
    "        previousNode = None\n",
    "        currentNode = self.head\n",
    "        nextNode = currentNode.next\n",
    "        \n",
    "        while currentNode:\n",
    "            \n",
    "            # reverse the link\n",
    "            currentNode.next = previousNode\n",
    "            \n",
    "            # move to the next node\n",
    "            previousNode = currentNode\n",
    "            currentNode = nextNode\n",
    "            \n",
    "            if nextNode:\n",
    "                nextNode = nextNode.next      \n",
    "        self.head = previousNode\n",
    "        \n",
    "        return self.getHeadValue()\n",
    "    \n",
    "    def reverseRecursive(self, node):\n",
    "        \n",
    "        #reached the end, so set the new head.\n",
    "        if node.next == None:\n",
    "            self.head = node\n",
    "            return\n",
    "        else:\n",
    "            self.reverseRecursive(node.next)\n",
    "            temp = node.next\n",
    "            temp.next = node\n",
    "            node.next = None\n",
    "        return self.getHeadValue()\n",
    "        "
   ]
  },
  {
   "cell_type": "code",
   "execution_count": 211,
   "metadata": {},
   "outputs": [
    {
     "name": "stdout",
     "output_type": "stream",
     "text": [
      "Tests Pass\n",
      "Tests Pass\n"
     ]
    }
   ],
   "source": [
    "from nose.tools import assert_equal\n",
    "\n",
    "L1= LinkedList()\n",
    "L1.addToHead(1)\n",
    "L1.addToHead(2)\n",
    "L1.addToHead(3)\n",
    "L1.addToHead(4)\n",
    "L1.addToHead(5)\n",
    "\n",
    "class LinkedListReverseTester(object):\n",
    "    def test(self, solution):\n",
    "        assert_equal(solution, 1)\n",
    "        print(\"Tests Pass\")\n",
    "\n",
    "t = LinkedListReverseTester()\n",
    "t.test(L1.reverseIterative())\n",
    "L1.reverseIterative()\n",
    "t.test(L1.reverseRecursive(L1.getHead()))\n"
   ]
  },
  {
   "cell_type": "markdown",
   "metadata": {},
   "source": [
    "### Practice, Practice, Practice\n",
    " Write a function to reverse a linked list in place. The function will take in the head of the list as in put and return the new head of the list."
   ]
  }
 ],
 "metadata": {
  "kernelspec": {
   "display_name": "Python 3",
   "language": "python",
   "name": "python3"
  },
  "language_info": {
   "codemirror_mode": {
    "name": "ipython",
    "version": 3
   },
   "file_extension": ".py",
   "mimetype": "text/x-python",
   "name": "python",
   "nbconvert_exporter": "python",
   "pygments_lexer": "ipython3",
   "version": "3.6.3"
  }
 },
 "nbformat": 4,
 "nbformat_minor": 2
}
