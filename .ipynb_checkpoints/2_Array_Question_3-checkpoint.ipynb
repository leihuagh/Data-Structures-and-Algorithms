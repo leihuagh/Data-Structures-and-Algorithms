{
 "cells": [
  {
   "cell_type": "markdown",
   "metadata": {},
   "source": [
    "### Mike Basdeo \n",
    "\n",
    "# Find the Missing Element\n",
    "\n",
    "## Consider an array of non-negative integers. A second array is formed by shuffling the elements fo the fist array and deleting a random element. Given these two arrays, find which element is missing in the second array. Here is an example input, the first array is shuffled and the number 5 is removed to construct the second array.\n",
    "## $\\text{finder}([1,2,3,4,5,6,7], [3,7,2,1,4,6] )$"
   ]
  },
  {
   "cell_type": "markdown",
   "metadata": {},
   "source": [
    "## Solution 1 - Sorting - $O(n\\log{n})$\n",
    "### Sort both of the arrays. This will give a complexity of $O(n \\log{n})$ thanks to 'Timsort'. Once sorted, loop through and compare corresponding values. The first mismatch will mean that the missing number is in the first (longer) array."
   ]
  },
  {
   "cell_type": "code",
   "execution_count": 2,
   "metadata": {},
   "outputs": [],
   "source": [
    "def finder1(array, shuffled_array):\n",
    "    \n",
    "    array.sort()\n",
    "    shuffled_array.sort()\n",
    "    \n",
    "    for x,y in zip(array, shuffled_array):\n",
    "        if x != y:\n",
    "            return (x)"
   ]
  },
  {
   "cell_type": "markdown",
   "metadata": {},
   "source": [
    "## Solution 2 - XOR - $O(n)$ \n",
    "### Exclusive Or: https://stackoverflow.com/questions/18335587/finding-the-number-missing-in-the-sequence\n",
    "### Since $ A \\oplus A = 0$, by starting at 0 and peforming an XOR on both arrays, the value of the variable at the end is the missing element."
   ]
  },
  {
   "cell_type": "code",
   "execution_count": 3,
   "metadata": {},
   "outputs": [],
   "source": [
    "def finder3(array, shuffled_array):\n",
    "    \n",
    "    result = 0\n",
    "    \n",
    "    test = array + shuffled_array\n",
    "    \n",
    "    for num in test:\n",
    "        \n",
    "        result = result ^ num\n",
    "    return result"
   ]
  },
  {
   "cell_type": "markdown",
   "metadata": {},
   "source": [
    "## Solution 3 - Using a dictionary - $O(n)$"
   ]
  },
  {
   "cell_type": "code",
   "execution_count": 4,
   "metadata": {},
   "outputs": [],
   "source": [
    "def finder2(array, shuffled_array):\n",
    "    \n",
    "    # make a dictionary\n",
    "    dict = {}\n",
    "    \n",
    "    for x in array:\n",
    "        if x in dict:\n",
    "            dict[x] += 1\n",
    "        else:\n",
    "            dict[x] = 1\n",
    "            \n",
    "    for x in shuffled_array:\n",
    "        if x in dict:\n",
    "            dict[x] -=1\n",
    "            \n",
    "    for x in dict:\n",
    "        if dict[x] == 1:\n",
    "            return (x)\n",
    "             "
   ]
  },
  {
   "cell_type": "code",
   "execution_count": 5,
   "metadata": {},
   "outputs": [
    {
     "name": "stdout",
     "output_type": "stream",
     "text": [
      "Number found!\n",
      "Number found!\n",
      "Number found!\n"
     ]
    },
    {
     "ename": "NameError",
     "evalue": "name 'finder_Practice' is not defined",
     "output_type": "error",
     "traceback": [
      "\u001b[1;31m---------------------------------------------------------------------------\u001b[0m",
      "\u001b[1;31mNameError\u001b[0m                                 Traceback (most recent call last)",
      "\u001b[1;32m<ipython-input-5-972f4162454a>\u001b[0m in \u001b[0;36m<module>\u001b[1;34m()\u001b[0m\n\u001b[0;32m     14\u001b[0m \u001b[0mt\u001b[0m\u001b[1;33m.\u001b[0m\u001b[0mtest\u001b[0m\u001b[1;33m(\u001b[0m\u001b[0mfinder2\u001b[0m\u001b[1;33m)\u001b[0m\u001b[1;33m\u001b[0m\u001b[0m\n\u001b[0;32m     15\u001b[0m \u001b[0mt\u001b[0m\u001b[1;33m.\u001b[0m\u001b[0mtest\u001b[0m\u001b[1;33m(\u001b[0m\u001b[0mfinder3\u001b[0m\u001b[1;33m)\u001b[0m\u001b[1;33m\u001b[0m\u001b[0m\n\u001b[1;32m---> 16\u001b[1;33m \u001b[0mt\u001b[0m\u001b[1;33m.\u001b[0m\u001b[0mtest\u001b[0m\u001b[1;33m(\u001b[0m\u001b[0mfinder_Practice\u001b[0m\u001b[1;33m)\u001b[0m\u001b[1;33m\u001b[0m\u001b[0m\n\u001b[0m",
      "\u001b[1;31mNameError\u001b[0m: name 'finder_Practice' is not defined"
     ]
    }
   ],
   "source": [
    "from nose.tools import assert_equal\n",
    "\n",
    "class finderTester(object):\n",
    "    \n",
    "    \n",
    "    def test(self, solution):\n",
    "        assert_equal(solution([1,2,3,4,5,6,7],[3,7,2,1,4,6]), 5)\n",
    "        assert_equal(solution([1,2,3,4,5,6,7],[3,7,2,1,4,6]), 5)\n",
    "        assert_equal(solution([9,8,7,6,5,4,3,2,1],[9,8,7,5,4,3,2,1]),6)\n",
    "        print(\"Number found!\")\n",
    "\n",
    "t = finderTester()\n",
    "t.test(finder1)\n",
    "t.test(finder2)\n",
    "t.test(finder3)\n",
    "t.test(finder_Practice)"
   ]
  },
  {
   "cell_type": "markdown",
   "metadata": {},
   "source": [
    "### Practice, Practice, Practice\n",
    "Consider an array of non-negative integers. A second array is formed by shuffling the elements fo the fist array and deleting a random element. Given these two arrays, find which element is missing in the second array. Here is an example input, the first array is shuffled and the number 5 is removed to construct the second array.\n",
    "finder([1,2,3,4,5,6,7],[3,7,2,1,4,6])finder([1,2,3,4,5,6,7],[3,7,2,1,4,6])"
   ]
  },
  {
   "cell_type": "code",
   "execution_count": null,
   "metadata": {},
   "outputs": [],
   "source": [
    "def finder_practice()"
   ]
  }
 ],
 "metadata": {
  "kernelspec": {
   "display_name": "Python 3",
   "language": "python",
   "name": "python3"
  },
  "language_info": {
   "codemirror_mode": {
    "name": "ipython",
    "version": 3
   },
   "file_extension": ".py",
   "mimetype": "text/x-python",
   "name": "python",
   "nbconvert_exporter": "python",
   "pygments_lexer": "ipython3",
   "version": "3.6.3"
  }
 },
 "nbformat": 4,
 "nbformat_minor": 2
}
