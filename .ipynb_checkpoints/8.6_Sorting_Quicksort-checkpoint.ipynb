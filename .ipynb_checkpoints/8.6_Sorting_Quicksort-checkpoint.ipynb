{
 "cells": [
  {
   "cell_type": "markdown",
   "metadata": {},
   "source": [
    "# Quicksort\n",
    "\n",
    "Uses divide and conquer to gain the same advantages as the merge sort, while not using additional storage.\n",
    "\n",
    "- Splits may not be even, leading to lower performance, so its important to select the correct pivot\n",
    "- In the first implementation, we used the median of the first, last, and middle number.\n",
    "\n",
    "### Properties\n",
    "- recursive\n",
    "- efficient for large datasets\n",
    "- Not stable\n",
    "- worst case: $O(n^2)$\n",
    "- average case: $O(n \\log{n})$\n",
    "- Not adaptive"
   ]
  },
  {
   "cell_type": "code",
   "execution_count": 23,
   "metadata": {},
   "outputs": [
    {
     "name": "stdout",
     "output_type": "stream",
     "text": [
      "[1, 1, 2, 3, 4, 7, 9, 44]\n"
     ]
    }
   ],
   "source": [
    "def quick_sort(arr):\n",
    "    quick_sort2(arr, 0, len(arr)-1)\n",
    "    print(arr)\n",
    "    \n",
    "    \n",
    "# recursive function\n",
    "def quick_sort2(A, low, hi):\n",
    "    \n",
    "    if low < hi:\n",
    "        p = partition(A, low, hi)\n",
    "        \n",
    "        quick_sort2(A, low, p-1)\n",
    "        quick_sort2(A, p+1, hi)\n",
    "        \n",
    "        \n",
    "def partition(A, low, hi):\n",
    "    pivotIndex = get_pivot(A, low, hi)\n",
    "    pivotValue = A[pivotIndex]\n",
    "    \n",
    "    # swap pivotvalue into leftmost spot in our sublist\n",
    "    A[pivotIndex], A[low] = A[low], A[pivotIndex]\n",
    "    border = low\n",
    "    \n",
    "    \n",
    "    for i in range(low, hi+1):\n",
    "        if A[i] < pivotValue:\n",
    "            border+=1\n",
    "            A[i], A[border] = A[border], A[i]\n",
    "    \n",
    "    A[low], A[border] = A[border], A[low]\n",
    "    \n",
    "    return border\n",
    "             \n",
    "# find correct pivot value\n",
    "def get_pivot(A, low, hi):\n",
    "    mid = (hi + low) // 2\n",
    "    pivot = hi\n",
    "    \n",
    "    # choose the middle between high, low and hid\n",
    "    if A[low] < A[mid]:\n",
    "        if A[mid] < A[hi]:\n",
    "            pivot = mid\n",
    "    elif A[low] < A[hi]:\n",
    "        pivot = low\n",
    "    return pivot\n",
    "     \n",
    "quick_sort([2,1,7,3,9,44,1,4])"
   ]
  },
  {
   "cell_type": "code",
   "execution_count": null,
   "metadata": {},
   "outputs": [],
   "source": []
  },
  {
   "cell_type": "code",
   "execution_count": null,
   "metadata": {},
   "outputs": [],
   "source": []
  },
  {
   "cell_type": "code",
   "execution_count": null,
   "metadata": {},
   "outputs": [],
   "source": []
  },
  {
   "cell_type": "code",
   "execution_count": null,
   "metadata": {},
   "outputs": [],
   "source": []
  }
 ],
 "metadata": {
  "kernelspec": {
   "display_name": "Python 3",
   "language": "python",
   "name": "python3"
  },
  "language_info": {
   "codemirror_mode": {
    "name": "ipython",
    "version": 3
   },
   "file_extension": ".py",
   "mimetype": "text/x-python",
   "name": "python",
   "nbconvert_exporter": "python",
   "pygments_lexer": "ipython3",
   "version": "3.6.3"
  }
 },
 "nbformat": 4,
 "nbformat_minor": 2
}
