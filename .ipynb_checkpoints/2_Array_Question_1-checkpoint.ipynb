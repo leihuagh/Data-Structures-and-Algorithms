{
 "cells": [
  {
   "cell_type": "markdown",
   "metadata": {},
   "source": [
    "### Mike Basdeo\n",
    "# Anagram Sover\n",
    "# Given two strings, check to see if they are anagrams. An anagram is when the two strings can be written using the exact same letters. Example: \"clint eastwood\" is an anagram of \"old west action\". Ignore spaces and capitalization."
   ]
  },
  {
   "cell_type": "markdown",
   "metadata": {},
   "source": [
    "## Solution 1 -  Using a List\n",
    "### First check that the lengths of the strings are the same. Then seperate each string into its own array. For each letter in the first string, loop through the entire second string and remove the first match found. If the second string is empty by the end, we know that all the letters matched.\n",
    "### Nested for loops on line 11 cause this solution to have a complexity of $O(n^2)$"
   ]
  },
  {
   "cell_type": "code",
   "execution_count": 45,
   "metadata": {},
   "outputs": [],
   "source": [
    "def anagramSolver1(string1, string2):\n",
    "    \n",
    "    # remove spaces and make everything lowercase\n",
    "    string1 = string1.lower()\n",
    "    string2 = string2.lower()\n",
    "    \n",
    "    string1 = string1.replace(\" \", \"\")\n",
    "    string2 = string2.replace(\" \",\"\")\n",
    "    \n",
    "    if len(string1) != len(string2):\n",
    "        return False\n",
    "    else:\n",
    "        # create arrays out of both strings\n",
    "        list2 = list(string2)\n",
    "        list1 = list(string1)\n",
    "        \n",
    "        # nested for loops\n",
    "        for x in list1:\n",
    "            for y in list2:\n",
    "                if x == y:\n",
    "                    list2.remove(y)\n",
    "\n",
    "        if len(list2) == 0:\n",
    "            return True\n",
    "        else:\n",
    "            return False\n",
    "\n",
    "\n"
   ]
  },
  {
   "cell_type": "markdown",
   "metadata": {},
   "source": [
    "## Solution 2 - using Python's built in sorted method\n",
    "### Python's sorted method uses Timsort, which is a hybrid sorting algorithm, derived from merge sort and insertion sort.\n",
    "### This will likely be not enough for an interview, but its nice to know."
   ]
  },
  {
   "cell_type": "code",
   "execution_count": 46,
   "metadata": {},
   "outputs": [],
   "source": [
    "def anagramSolver2(string1, string2):\n",
    "    \n",
    "    # remove spaces and make everything lowercase\n",
    "    string1 = string1.replace(\" \", \"\").lower()\n",
    "    string2 = string2.replace(\" \",\"\").lower()\n",
    "    \n",
    "    # sort and compare\n",
    "    return sorted(string1) == sorted(string2)\n",
    "    \n"
   ]
  },
  {
   "cell_type": "markdown",
   "metadata": {},
   "source": [
    "## Solution 3 using dictionaries\n",
    "\n",
    "### This is the winner, with a complexity of $O(n)$\n",
    "### Put all the letters into a dictionary. +1 for every time the letter is in the first string. -1 for every time the letter is in the second string. If the dictionary contains only 0's at the end, you've got yourself an anagram."
   ]
  },
  {
   "cell_type": "code",
   "execution_count": 47,
   "metadata": {},
   "outputs": [],
   "source": [
    "def anagramSolver3(string1, string2):\n",
    "    \n",
    "    # remove spaces and make everything lowercase\n",
    "    string1 = string1.replace(\" \", \"\").lower()\n",
    "    string2 = string2.replace(\" \",\"\").lower()\n",
    "    \n",
    "    # Edge case check\n",
    "    if len(string1) != len(string2):\n",
    "        return False\n",
    "    \n",
    "    #dictionary\n",
    "    count = {}\n",
    "    \n",
    "    for letter in string1:\n",
    "        # if the letter in the dictionary already as a key, then just add 1 to the key,\n",
    "        # otherwise create the key and add 1\n",
    "        if letter in count:\n",
    "            count[letter] += 1\n",
    "        else:\n",
    "            count[letter] = 1\n",
    "\n",
    "            \n",
    "    for letter in string2:\n",
    "        if letter in count:\n",
    "            count[letter] -=1\n",
    "        else:\n",
    "            count[letter] = -1\n",
    "\n",
    "    \n",
    "    return all(value == 0 for value in count.values())\n",
    "\n",
    "\n",
    "    "
   ]
  },
  {
   "cell_type": "markdown",
   "metadata": {},
   "source": [
    "## Anagram Tester"
   ]
  },
  {
   "cell_type": "code",
   "execution_count": 50,
   "metadata": {},
   "outputs": [
    {
     "name": "stdout",
     "output_type": "stream",
     "text": [
      "Tests Pass. You've got yourself an anagram!\n",
      "Tests Pass. You've got yourself an anagram!\n",
      "Tests Pass. You've got yourself an anagram!\n",
      "Tests Pass. You've got yourself an anagram!\n"
     ]
    }
   ],
   "source": [
    "from nose.tools import assert_equal\n",
    "\n",
    "class AnagramTester(object):\n",
    "    def test(self, solution):\n",
    "        assert_equal(solution(\"Cl InT  EasT WooD\", \"Ol   D we st Ac Tio N\"), True)\n",
    "        assert_equal(solution(\"cat\", \"TAC  \"), True)\n",
    "        assert_equal(solution(\"caasdft\", \"TAC  \"), False)\n",
    "        print(\"Tests Pass. You've got yourself an anagram!\")\n",
    "# Run tests\n",
    "t = AnagramTester()\n",
    "t.test(anagramSolver1)\n",
    "t.test(anagramSolver2)\n",
    "t.test(anagramSolver3)\n",
    "t.test(anagramPractice)\n"
   ]
  },
  {
   "cell_type": "markdown",
   "metadata": {},
   "source": [
    "### Practice, Practice, Practice\n",
    "Given two strings, check to see if they are anagrams. An anagram is when the two strings can be written using the exact same letters. Example: \"clint eastwood\" is an anagram of \"old west action\". Ignore spaces and capitalization.\n"
   ]
  }
 ],
 "metadata": {
  "kernelspec": {
   "display_name": "Python 3",
   "language": "python",
   "name": "python3"
  },
  "language_info": {
   "codemirror_mode": {
    "name": "ipython",
    "version": 3
   },
   "file_extension": ".py",
   "mimetype": "text/x-python",
   "name": "python",
   "nbconvert_exporter": "python",
   "pygments_lexer": "ipython3",
   "version": "3.6.3"
  }
 },
 "nbformat": 4,
 "nbformat_minor": 2
}
