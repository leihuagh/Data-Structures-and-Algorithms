{
 "cells": [
  {
   "cell_type": "markdown",
   "metadata": {},
   "source": [
    "# Reverse a String\n",
    "## Reverse a string using recursion\n",
    "Pop off the last character every time and recursively continue with the shorter string until its size is 1. "
   ]
  },
  {
   "cell_type": "code",
   "execution_count": 25,
   "metadata": {},
   "outputs": [],
   "source": [
    "def reverseRecursion(string):\n",
    "\n",
    "    # base case\n",
    "    if len(string) == 1:\n",
    "        return string\n",
    "    # recursion\n",
    "    else:\n",
    "        return reverseRecursion(string[1:]) + string[0]\n",
    "    print(string)\n"
   ]
  },
  {
   "cell_type": "code",
   "execution_count": 26,
   "metadata": {},
   "outputs": [
    {
     "name": "stdout",
     "output_type": "stream",
     "text": [
      "Test Passes\n"
     ]
    }
   ],
   "source": [
    "from nose.tools import assert_equal\n",
    "\n",
    "class reverseStringTester(object):\n",
    "    def test(self, solution):\n",
    "        assert_equal(solution(\"mike\"), \"ekim\")\n",
    "        print(\"Test Passes\")\n",
    "        \n",
    "t = reverseStringTester()\n",
    "t.test(reverseRecursion)\n",
    "        "
   ]
  },
  {
   "cell_type": "markdown",
   "metadata": {},
   "source": [
    "### Practice, Practice, Practice\n",
    "Reverse a string using recursion\n"
   ]
  }
 ],
 "metadata": {
  "kernelspec": {
   "display_name": "Python 3",
   "language": "python",
   "name": "python3"
  },
  "language_info": {
   "codemirror_mode": {
    "name": "ipython",
    "version": 3
   },
   "file_extension": ".py",
   "mimetype": "text/x-python",
   "name": "python",
   "nbconvert_exporter": "python",
   "pygments_lexer": "ipython3",
   "version": "3.6.3"
  }
 },
 "nbformat": 4,
 "nbformat_minor": 2
}
