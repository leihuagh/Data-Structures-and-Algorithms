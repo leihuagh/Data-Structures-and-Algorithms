{
 "cells": [
  {
   "cell_type": "markdown",
   "metadata": {},
   "source": [
    "# Coin Change Problem\n",
    "## Given a target amount $n$ and a list (array) of distinct coin values, what's the fewest coins needed to make the change amount"
   ]
  },
  {
   "cell_type": "markdown",
   "metadata": {},
   "source": [
    "### Solution 1 - Basic Recursion"
   ]
  },
  {
   "cell_type": "code",
   "execution_count": 3,
   "metadata": {},
   "outputs": [
    {
     "data": {
      "text/plain": [
       "2"
      ]
     },
     "execution_count": 3,
     "metadata": {},
     "output_type": "execute_result"
    }
   ],
   "source": [
    "def coinChangeRecursive(coins, target):\n",
    "    \n",
    "    min_coins = target\n",
    "    \n",
    "    # base cases\n",
    "    # if value is in array, then return 1\n",
    "    if target in coins:\n",
    "        return 1\n",
    "    else:\n",
    "        \n",
    "        # for every coin value that is <= my target value,\n",
    "        for i in [c for c in coins if c <= target]:\n",
    "            \n",
    "            num_coins = 1 + coinChangeRecursive(coins, target-i)\n",
    "            \n",
    "            if num_coins < min_coins:\n",
    "                min_coins = num_coins\n",
    "            \n",
    "        \n",
    "        return min_coins\n",
    "        \n",
    "    \n",
    "\n",
    "\n",
    "\n",
    "coinChangeRecursive([1, 5, 5, 5, 10, 25],15)"
   ]
  },
  {
   "cell_type": "code",
   "execution_count": 4,
   "metadata": {},
   "outputs": [
    {
     "name": "stdout",
     "output_type": "stream",
     "text": [
      "Tests Pass\n"
     ]
    }
   ],
   "source": [
    "from nose.tools import assert_equal\n",
    "\n",
    "class CoinTester(object):\n",
    "    def test(self, solution):\n",
    "        assert_equal(solution([1, 5, 10, 25],15),2)\n",
    "        print(\"Tests Pass\")\n",
    "t = CoinTester()\n",
    "t.test(coinChangeRecursive)"
   ]
  },
  {
   "cell_type": "markdown",
   "metadata": {},
   "source": [
    "### Practice, Practice, Practice\n",
    "Given a target amount $n$ and a list (array) of distinct coin values, what's the fewest coins needed to make the change amount"
   ]
  },
  {
   "cell_type": "code",
   "execution_count": 21,
   "metadata": {},
   "outputs": [
    {
     "data": {
      "text/plain": [
       "2"
      ]
     },
     "execution_count": 21,
     "metadata": {},
     "output_type": "execute_result"
    }
   ],
   "source": [
    "def coinPractice(coins, target):\n",
    "    \n",
    "    min_coins = target\n",
    "    \n",
    "    # base case\n",
    "    if target in coins:\n",
    "        return 1\n",
    "    else:\n",
    "        for i in [c for c in coins if c < target]:\n",
    "            num_coins = 1 + coinPractice(coins, target-i)\n",
    "            \n",
    "            if num_coins < min_coins:\n",
    "                min_coins = num_coins\n",
    "    return min_coins\n",
    "            \n",
    "    \n",
    "    \n",
    "coinPractice([1, 5, 10, 25],15)"
   ]
  },
  {
   "cell_type": "code",
   "execution_count": null,
   "metadata": {},
   "outputs": [],
   "source": []
  },
  {
   "cell_type": "code",
   "execution_count": null,
   "metadata": {},
   "outputs": [],
   "source": []
  }
 ],
 "metadata": {
  "kernelspec": {
   "display_name": "Python 3",
   "language": "python",
   "name": "python3"
  },
  "language_info": {
   "codemirror_mode": {
    "name": "ipython",
    "version": 3
   },
   "file_extension": ".py",
   "mimetype": "text/x-python",
   "name": "python",
   "nbconvert_exporter": "python",
   "pygments_lexer": "ipython3",
   "version": "3.6.3"
  }
 },
 "nbformat": 4,
 "nbformat_minor": 2
}
