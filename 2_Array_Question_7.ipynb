{
 "cells": [
  {
   "cell_type": "markdown",
   "metadata": {},
   "source": [
    "# Unique Characters in String\n",
    "## Given a string, determine if it is comprised of all unique characters."
   ]
  },
  {
   "cell_type": "markdown",
   "metadata": {},
   "source": [
    "## Solution 1 - Dictionary"
   ]
  },
  {
   "cell_type": "code",
   "execution_count": 63,
   "metadata": {},
   "outputs": [],
   "source": [
    "def UniqueCharacters1(s):\n",
    "\n",
    "    dict = {}\n",
    "    \n",
    "    if s == \" \":\n",
    "        return True\n",
    "    \n",
    "    for letter in s:\n",
    "        if letter in dict:\n",
    "            dict[letter] += 1\n",
    "        else:\n",
    "            dict[letter] = 1\n",
    "       \n",
    "    print(dict)\n",
    "    \n",
    "    # check that all dict is 1's\n",
    "    \n",
    "    return (all(value == 1 for value in dict.values()))\n"
   ]
  },
  {
   "cell_type": "markdown",
   "metadata": {},
   "source": [
    "## Solution 2 - Compare set of characters to string length"
   ]
  },
  {
   "cell_type": "code",
   "execution_count": 70,
   "metadata": {},
   "outputs": [],
   "source": [
    "def UniqueCharacters2(s):\n",
    "    \n",
    "    chars = set()\n",
    "    \n",
    "    for letter in s:\n",
    "        if s in chars:\n",
    "            return False\n",
    "        else:\n",
    "            chars.add(letter)\n",
    "    return True\n",
    "            "
   ]
  },
  {
   "cell_type": "code",
   "execution_count": 71,
   "metadata": {},
   "outputs": [
    {
     "name": "stdout",
     "output_type": "stream",
     "text": [
      "{'a': 1, 'b': 1, 'c': 1, 'd': 1, 'e': 1}\n",
      "{}\n",
      "{'a': 1, 'b': 1, 'c': 1, 'd': 1, 'e': 1}\n",
      "All Tests Pass\n",
      "All Tests Pass\n"
     ]
    }
   ],
   "source": [
    "from nose.tools import assert_equal\n",
    "\n",
    "class UniqueCharactersTester(object):\n",
    "    \n",
    "    def test(self, solution):\n",
    "        assert_equal(solution('abcde'),True)\n",
    "        assert_equal(solution(''),True)\n",
    "        assert_equal(solution('abcde'),True)\n",
    "        print(\"All Tests Pass\")\n",
    "\n",
    "\n",
    "t = UniqueCharactersTester()\n",
    "t.test(UniqueCharacters1)\n",
    "\n",
    "t.test(UniqueCharacters2)\n"
   ]
  },
  {
   "cell_type": "code",
   "execution_count": null,
   "metadata": {},
   "outputs": [],
   "source": []
  },
  {
   "cell_type": "code",
   "execution_count": null,
   "metadata": {},
   "outputs": [],
   "source": []
  },
  {
   "cell_type": "code",
   "execution_count": null,
   "metadata": {},
   "outputs": [],
   "source": []
  },
  {
   "cell_type": "code",
   "execution_count": null,
   "metadata": {},
   "outputs": [],
   "source": []
  }
 ],
 "metadata": {
  "kernelspec": {
   "display_name": "Python 3",
   "language": "python",
   "name": "python3"
  },
  "language_info": {
   "codemirror_mode": {
    "name": "ipython",
    "version": 3
   },
   "file_extension": ".py",
   "mimetype": "text/x-python",
   "name": "python",
   "nbconvert_exporter": "python",
   "pygments_lexer": "ipython3",
   "version": "3.6.3"
  }
 },
 "nbformat": 4,
 "nbformat_minor": 2
}
