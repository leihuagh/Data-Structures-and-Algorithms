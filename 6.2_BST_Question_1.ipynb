{
 "cells": [
  {
   "cell_type": "markdown",
   "metadata": {},
   "source": [
    "# Binary Search Tree Check\n",
    "### Given a binary tree, check whether it's a binary search tree or not\n",
    "    "
   ]
  },
  {
   "cell_type": "markdown",
   "metadata": {},
   "source": [
    "### Solution 1\n",
    "Use an Inorder Travesal (Left, Root, Right) and then ensure that the values are sorted."
   ]
  },
  {
   "cell_type": "code",
   "execution_count": 21,
   "metadata": {},
   "outputs": [],
   "source": [
    "    tree_vals = []\n",
    "    \n",
    "    def inorder(tree):\n",
    "        if tree != None:\n",
    "            inorder(tree.getLeftChild())\n",
    "            tree_vals.append(tree.value)\n",
    "            inorder(tree.getRightChild())\n",
    "                \n",
    "    def sort_check(tree_vals):\n",
    "        return tree_vals == sorted(tree_vals)"
   ]
  },
  {
   "cell_type": "markdown",
   "metadata": {},
   "source": [
    "### Solution 2\n",
    "Keep track of the minimum and maximum values a node can take (check each node for correct BST values)"
   ]
  },
  {
   "cell_type": "code",
   "execution_count": 29,
   "metadata": {},
   "outputs": [],
   "source": [
    "class Node:\n",
    "    def __init__(self, key, value):\n",
    "        self.key = key\n",
    "        self.value = value\n",
    "        self.left = None\n",
    "        self.right = None\n",
    "        \n",
    "def tree_max(node):\n",
    "    # recursive base case\n",
    "    if not node:\n",
    "        return float(\"-inf\")\n",
    "    \n",
    "    # recursion\n",
    "    maxleft = tree_max(node.left)\n",
    "    maxright = tree_max(node.right)\n",
    "    return max(node.key, maxleft, maxright)\n",
    "\n",
    "def tree_min(node):\n",
    "    # base case\n",
    "    if not node:\n",
    "        return float(\"inf\")\n",
    "    else:\n",
    "        minleft = tree_min(node.left)\n",
    "        minright = tree_min(node.right)\n",
    "        return min(node.key, minleft, minright)\n",
    "    \n",
    "def verify(node):\n",
    "    if not node:\n",
    "        return True\n",
    "    if (tree_max(node.left) <= node.key <= tree_min(node.right)\n",
    "        and verify(node.left) and verify(node.right)):\n",
    "        return True\n",
    "    else:\n",
    "        return False\n",
    "        \n",
    "\n",
    "        "
   ]
  },
  {
   "cell_type": "code",
   "execution_count": 41,
   "metadata": {},
   "outputs": [],
   "source": [
    "root = Node(10, \"Hello\")\n",
    "root.left = Node(5, \"Binary\")\n",
    "root.right = Node(30, \"Search\")\n",
    "root.left.right = Node(7, \"Tree\")"
   ]
  },
  {
   "cell_type": "code",
   "execution_count": 42,
   "metadata": {},
   "outputs": [
    {
     "name": "stdout",
     "output_type": "stream",
     "text": [
      "True\n"
     ]
    }
   ],
   "source": [
    "print(verify(root))"
   ]
  },
  {
   "cell_type": "markdown",
   "metadata": {},
   "source": [
    "### Practice, Practice, Practice"
   ]
  },
  {
   "cell_type": "markdown",
   "metadata": {},
   "source": [
    "Given a binary tree, check whether it's a binary search tree or not\n",
    "\n"
   ]
  },
  {
   "cell_type": "code",
   "execution_count": null,
   "metadata": {},
   "outputs": [],
   "source": []
  }
 ],
 "metadata": {
  "kernelspec": {
   "display_name": "Python 3",
   "language": "python",
   "name": "python3"
  },
  "language_info": {
   "codemirror_mode": {
    "name": "ipython",
    "version": 3
   },
   "file_extension": ".py",
   "mimetype": "text/x-python",
   "name": "python",
   "nbconvert_exporter": "python",
   "pygments_lexer": "ipython3",
   "version": "3.6.3"
  }
 },
 "nbformat": 4,
 "nbformat_minor": 2
}
