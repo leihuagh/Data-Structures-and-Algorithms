{
 "cells": [
  {
   "cell_type": "markdown",
   "metadata": {},
   "source": [
    "# Recursion"
   ]
  },
  {
   "cell_type": "markdown",
   "metadata": {},
   "source": [
    "## Two Types\n",
    "1. When a function makes one or more calls to itself\n",
    "2. When a data structure uses smaller instances of the exact same type of data structure when it represents itself.\n",
    "\n",
    "## Factorial Example\n",
    " $n! = n \\cdot (n -1)$\n",
    " Base Case: if $n = 0$, $n! = 1$"
   ]
  },
  {
   "cell_type": "code",
   "execution_count": 1,
   "metadata": {},
   "outputs": [
    {
     "data": {
      "text/plain": [
       "24"
      ]
     },
     "execution_count": 1,
     "metadata": {},
     "output_type": "execute_result"
    }
   ],
   "source": [
    "def fact(n):\n",
    "    # base case\n",
    "    if n == 0:\n",
    "        return 1\n",
    "    else:\n",
    "        return n*fact(n-1)\n",
    "fact(4)     "
   ]
  },
  {
   "cell_type": "markdown",
   "metadata": {},
   "source": [
    "## Example Question 1 - Sum\n",
    "Write a recursive function that takes an integer and computes the cumulative sum of 0 to that integer.\n"
   ]
  },
  {
   "cell_type": "code",
   "execution_count": 2,
   "metadata": {},
   "outputs": [
    {
     "data": {
      "text/plain": [
       "10"
      ]
     },
     "execution_count": 2,
     "metadata": {},
     "output_type": "execute_result"
    }
   ],
   "source": [
    "def cumulativeSum(num):\n",
    "    \n",
    "    # Base Case\n",
    "    if num == 0:\n",
    "        return 0\n",
    "    else:\n",
    "        return num + cumulativeSum(num-1)\n",
    "    \n",
    "cumulativeSum(4)"
   ]
  },
  {
   "cell_type": "markdown",
   "metadata": {},
   "source": [
    "## Example Question 2 - Add Digits\n",
    "Given an integer, create a function which returns the sum of all the individual digits in that integer. For example: if n = 4321, return 4 + 3 + 2 + 1 = 10"
   ]
  },
  {
   "cell_type": "code",
   "execution_count": 5,
   "metadata": {},
   "outputs": [
    {
     "data": {
      "text/plain": [
       "10"
      ]
     },
     "execution_count": 5,
     "metadata": {},
     "output_type": "execute_result"
    }
   ],
   "source": [
    "def sumDigits(num):\n",
    "    # base case?\n",
    "    if (num) == 0:\n",
    "        return 0\n",
    "    else:\n",
    "        return (num%10) + (sumDigits(num // 10))\n",
    "sumDigits(4321)"
   ]
  },
  {
   "cell_type": "markdown",
   "metadata": {},
   "source": [
    "## Example 3 - Word Split\n",
    "\n",
    "Create a function which takes in a string phrase and a list of words. The function will determine if it is possible to split the string in a way in wich words can be made from the list of words. \n"
   ]
  },
  {
   "cell_type": "code",
   "execution_count": 13,
   "metadata": {},
   "outputs": [
    {
     "data": {
      "text/plain": [
       "['fish', 'dog', 'cat', 'cat', 'dog', 'fish']"
      ]
     },
     "execution_count": 13,
     "metadata": {},
     "output_type": "execute_result"
    }
   ],
   "source": [
    "def wordSplit(phrase, wordList, output=None):\n",
    "    \n",
    "    #so the recursion doesn't reset the list every time. clever.\n",
    "    if output is None:\n",
    "        output = []\n",
    "        \n",
    "    for word in wordList:\n",
    "        if phrase.startswith(word):\n",
    "            output.append(word)\n",
    "            \n",
    "            #recursion\n",
    "            return wordSplit(phrase[len(word):], wordList, output)\n",
    "    return output\n",
    "\n",
    "wordList = [\"cat\", \"dog\", \"fish\"]\n",
    "phrase = \"fishdogcatcatdogfish\"\n",
    "wordSplit(phrase, wordList)"
   ]
  },
  {
   "cell_type": "markdown",
   "metadata": {},
   "source": [
    "## Memoization\n",
    "A way to lower a function's time cost in exchange for space cost. A higher speed in exchange for a higher use of memory."
   ]
  },
  {
   "cell_type": "code",
   "execution_count": null,
   "metadata": {},
   "outputs": [],
   "source": []
  }
 ],
 "metadata": {
  "kernelspec": {
   "display_name": "Python 3",
   "language": "python",
   "name": "python3"
  },
  "language_info": {
   "codemirror_mode": {
    "name": "ipython",
    "version": 3
   },
   "file_extension": ".py",
   "mimetype": "text/x-python",
   "name": "python",
   "nbconvert_exporter": "python",
   "pygments_lexer": "ipython3",
   "version": "3.6.3"
  }
 },
 "nbformat": 4,
 "nbformat_minor": 2
}
