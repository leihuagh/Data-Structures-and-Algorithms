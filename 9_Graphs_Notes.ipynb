{
 "cells": [
  {
   "cell_type": "markdown",
   "metadata": {},
   "source": [
    "# Graphs\n",
    "- Directed graph: edges in a graph are all one way.\n",
    "- A cycle in a directed graph is a path that starts and ends at the same vertex.\n",
    "- A graph with no cycles is called an acyclic graph.\n",
    "- directed graph with no cycles is called a directed acylic graph (DAG)."
   ]
  },
  {
   "cell_type": "markdown",
   "metadata": {},
   "source": [
    "### Applications\n",
    "- web crawling\n",
    "- social networking (friend of friends)\n",
    "- network broadcast\n",
    "- garbage collection\n",
    "- model checking\n",
    "- check mathematical conjectures\n",
    "- solving puzzles and games\n"
   ]
  },
  {
   "cell_type": "markdown",
   "metadata": {},
   "source": [
    "### Adjacency Matrix\n",
    "Easy way to implement a graph is using a 2-D matrix. \n",
    "[x, y] = there is an edge from vertex x to vertex y.\n",
    "\n",
    "Because most of the cells in an adjacency matrix will likely be empty for sparse data, it is not always efficient. "
   ]
  },
  {
   "cell_type": "markdown",
   "metadata": {},
   "source": [
    "### Graph using a Dictionary"
   ]
  },
  {
   "cell_type": "code",
   "execution_count": 22,
   "metadata": {},
   "outputs": [],
   "source": [
    "graph = { \"a\" : [\"c\"],\n",
    "          \"b\" : [\"c\", \"e\"],\n",
    "          \"c\" : [\"a\", \"b\", \"d\", \"e\"],\n",
    "          \"d\" : [\"c\"],\n",
    "          \"e\" : [\"c\", \"b\"],\n",
    "          \"f\" : []\n",
    "        }"
   ]
  },
  {
   "cell_type": "code",
   "execution_count": 24,
   "metadata": {},
   "outputs": [
    {
     "name": "stdout",
     "output_type": "stream",
     "text": [
      "[('a', 'c'), ('b', 'c'), ('b', 'e'), ('c', 'a'), ('c', 'b'), ('c', 'd'), ('c', 'e'), ('d', 'c'), ('e', 'c'), ('e', 'b')]\n"
     ]
    }
   ],
   "source": [
    "def generate_edges(graph):\n",
    "    edges = []\n",
    "    for node in graph:\n",
    "        for neighbour in graph[node]:\n",
    "            edges.append((node, neighbour))\n",
    "\n",
    "    return edges\n",
    "\n",
    "print(generate_edges(graph))"
   ]
  },
  {
   "cell_type": "markdown",
   "metadata": {},
   "source": [
    "### Graph using an Adjacency List\n",
    "More space efficient for a sparsely connected graph.\n",
    "- Master list/dict of all verticies\n",
    "- Each vertex object has list of other verticies it is connected to"
   ]
  },
  {
   "cell_type": "markdown",
   "metadata": {},
   "source": [
    "### Implementation - Graph as Adjacency List"
   ]
  },
  {
   "cell_type": "code",
   "execution_count": 17,
   "metadata": {},
   "outputs": [],
   "source": [
    "class Vertex(object):\n",
    "    def __init__(self, key):\n",
    "        self.id = key\n",
    "        self.connectedTo = {}\n",
    "        \n",
    "    def addNeighbour(self, neighbour, weight=0):\n",
    "        self.connectedTo[neighbour] = weight\n",
    "        \n",
    "    def getConnections(self):\n",
    "        return self.connectedTo.keys()\n",
    "\n",
    "    def getId(self):\n",
    "        return self.id\n",
    "    \n",
    "    def getWeight(self, neighbour):\n",
    "        return self.connectedTo[neighbour]\n",
    "    \n",
    "    def __str__(self):\n",
    "        return str(self.id) + \"connected to: \" + str([x.id for x in self.connectedTo]) \n",
    "    \n",
    "    \n",
    "    \n",
    "class Graph(object):\n",
    "    \n",
    "    \n",
    "    def __init__(self):\n",
    "        self.vertList = {}\n",
    "        self.numVerticies = 0\n",
    "        \n",
    "        \n",
    "    # custom 'for' functionality\n",
    "    def __iter__(self):\n",
    "        return iter(self.vertList.values())\n",
    "    \n",
    "    # custom 'in' functionality\n",
    "    def __contains__(self):\n",
    "        return n in self.vertList\n",
    "    \n",
    "        \n",
    "        \n",
    "    def addVertex(self, key):\n",
    "        self.numVerticies += 1\n",
    "        newVertex = Vertex(key)\n",
    "        self.vertList[key] = newVertex\n",
    "        return newVertex\n",
    "    \n",
    "    def getVertex(self, n):\n",
    "        if n in self.vertList:\n",
    "            return self.vertList[n]\n",
    "        else:\n",
    "            return None\n",
    "        \n",
    "        \n",
    "    def addEdge(self, vertFrom, vertTo, weight=0):\n",
    "        # make sure both To and From vertex keys exist in the graph's master dict.\n",
    "        if vertFrom not in self.vertList:\n",
    "            self.addVertex[vertFrom]\n",
    "        if vertTo not in self.vertList:\n",
    "            self.addVertex[vertTo]\n",
    "        \n",
    "        self.vertList[vertFrom].addNeighbour(self.vertList[vertTo], weight)\n",
    "        \n",
    "    def getVertices(self):\n",
    "        return self.vertList.keys()\n",
    "    \n",
    "    \n",
    "    \n",
    "    \n",
    "    \n",
    "        "
   ]
  },
  {
   "cell_type": "code",
   "execution_count": 18,
   "metadata": {},
   "outputs": [],
   "source": [
    "g = Graph()"
   ]
  },
  {
   "cell_type": "code",
   "execution_count": 19,
   "metadata": {},
   "outputs": [],
   "source": [
    "for i in range(6):\n",
    "    g.addVertex(i)"
   ]
  },
  {
   "cell_type": "code",
   "execution_count": 20,
   "metadata": {},
   "outputs": [],
   "source": [
    "g.addEdge(0,1,2)"
   ]
  },
  {
   "cell_type": "code",
   "execution_count": 21,
   "metadata": {},
   "outputs": [
    {
     "name": "stdout",
     "output_type": "stream",
     "text": [
      "0connected to: [1]\n",
      "dict_keys([<__main__.Vertex object at 0x0000014EC9938550>])\n",
      "1connected to: []\n",
      "dict_keys([])\n",
      "2connected to: []\n",
      "dict_keys([])\n",
      "3connected to: []\n",
      "dict_keys([])\n",
      "4connected to: []\n",
      "dict_keys([])\n",
      "5connected to: []\n",
      "dict_keys([])\n"
     ]
    }
   ],
   "source": [
    "for vertex in g:\n",
    "    print (vertex)\n",
    "    print (vertex.getConnections())"
   ]
  },
  {
   "cell_type": "markdown",
   "metadata": {},
   "source": [
    "### Practice, Practice, Practice\n",
    "Implement a graph using an adjacency list"
   ]
  },
  {
   "cell_type": "code",
   "execution_count": null,
   "metadata": {},
   "outputs": [],
   "source": []
  }
 ],
 "metadata": {
  "kernelspec": {
   "display_name": "Python 3",
   "language": "python",
   "name": "python3"
  },
  "language_info": {
   "codemirror_mode": {
    "name": "ipython",
    "version": 3
   },
   "file_extension": ".py",
   "mimetype": "text/x-python",
   "name": "python",
   "nbconvert_exporter": "python",
   "pygments_lexer": "ipython3",
   "version": "3.6.3"
  }
 },
 "nbformat": 4,
 "nbformat_minor": 2
}
