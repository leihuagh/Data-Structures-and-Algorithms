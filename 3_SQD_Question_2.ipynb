{
 "cells": [
  {
   "cell_type": "markdown",
   "metadata": {},
   "source": [
    "# Implement a Queue using two Stacks\n",
    "## Given the Stack class below, implement a Queue class using two stacks! Classic interview problem. Use a list data structure as your stack. "
   ]
  },
  {
   "cell_type": "code",
   "execution_count": 1,
   "metadata": {},
   "outputs": [],
   "source": [
    "class Queue2Stacks(object):\n",
    "    \n",
    "    # every time you enque, move everything to the second queue, add the new guy, and then put the old shit back.\n",
    "    \n",
    "    # Queue LiFo\n",
    "    def __init__(self):\n",
    "        \n",
    "        # Two Stacks\n",
    "        self.instack = []\n",
    "        self.outstack = []\n",
    "        \n",
    "    def get_instack(self):\n",
    "        return self.instack\n",
    "    \n",
    "    def get_outstack(self):\n",
    "        return self.outstack\n",
    "    \n",
    "    #put at the end\n",
    "    def enque(self, element):\n",
    "        self.instack.append(element)\n",
    "        \n",
    "    def deque(self):\n",
    "        \n",
    "        # if outstack is empty\n",
    "        if not self.outstack:\n",
    "            while self.instack:\n",
    "                self.outstack.append(self.instack.pop())\n",
    "        \n",
    "        return self.outstack.pop()\n",
    "    \n",
    "stack = Queue2Stacks()"
   ]
  },
  {
   "cell_type": "code",
   "execution_count": null,
   "metadata": {},
   "outputs": [],
   "source": []
  },
  {
   "cell_type": "code",
   "execution_count": null,
   "metadata": {},
   "outputs": [],
   "source": []
  }
 ],
 "metadata": {
  "kernelspec": {
   "display_name": "Python 3",
   "language": "python",
   "name": "python3"
  },
  "language_info": {
   "codemirror_mode": {
    "name": "ipython",
    "version": 3
   },
   "file_extension": ".py",
   "mimetype": "text/x-python",
   "name": "python",
   "nbconvert_exporter": "python",
   "pygments_lexer": "ipython3",
   "version": "3.6.3"
  }
 },
 "nbformat": 4,
 "nbformat_minor": 2
}
