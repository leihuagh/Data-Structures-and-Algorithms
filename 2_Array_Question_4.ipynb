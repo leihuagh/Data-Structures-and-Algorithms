{
 "cells": [
  {
   "cell_type": "markdown",
   "metadata": {},
   "source": [
    "# Largest Continuous Sum\n",
    "\n",
    "### Problem: Given an array of integers (positive and negative) find the largest continuous sum."
   ]
  },
  {
   "cell_type": "code",
   "execution_count": 3,
   "metadata": {},
   "outputs": [],
   "source": [
    "def continuousSumSolution_1(array):\n",
    "    \n",
    "    #Edge case\n",
    "    if len(array) == 0:\n",
    "        return 0\n",
    "    \n",
    "    #keep a current and a max sum\n",
    "    max_sum = array[0]\n",
    "    current_sum = array[0]\n",
    "    \n",
    "    for num in array[1:]:\n",
    "        \n",
    "        #check if adding new number makes current sum bigger or smaller than the current number\n",
    "        current_sum = max(current_sum + num, num)\n",
    "        \n",
    "        max_sum = max(current_sum, max_sum)\n",
    "        \n",
    "    return (max_sum)\n",
    "    \n",
    "\n",
    "\n"
   ]
  },
  {
   "cell_type": "code",
   "execution_count": 12,
   "metadata": {},
   "outputs": [
    {
     "name": "stdout",
     "output_type": "stream",
     "text": [
      "All tests pass\n",
      "All tests pass\n"
     ]
    }
   ],
   "source": [
    "from nose.tools import assert_equal\n",
    "\n",
    "class continuousSumTester(object):\n",
    "    \n",
    "    def test(self, solution):\n",
    "        assert_equal(solution([]),0)\n",
    "        assert_equal(solution([1,2,-1,3,4,10,10,-10,-1]), 29)\n",
    "        print(\"All tests pass\")\n",
    "        \n",
    "t = continuousSumTester()\n",
    "t.test(continuousSumSolution_1)\n",
    "t.test(continuousSumPractice)"
   ]
  },
  {
   "cell_type": "markdown",
   "metadata": {},
   "source": [
    "### Practice, Practice, Practice\n",
    "Problem: Given an array of integers (positive and negative) find the largest continuous sum.\n",
    "\n"
   ]
  }
 ],
 "metadata": {
  "kernelspec": {
   "display_name": "Python 3",
   "language": "python",
   "name": "python3"
  },
  "language_info": {
   "codemirror_mode": {
    "name": "ipython",
    "version": 3
   },
   "file_extension": ".py",
   "mimetype": "text/x-python",
   "name": "python",
   "nbconvert_exporter": "python",
   "pygments_lexer": "ipython3",
   "version": "3.6.3"
  }
 },
 "nbformat": 4,
 "nbformat_minor": 2
}
