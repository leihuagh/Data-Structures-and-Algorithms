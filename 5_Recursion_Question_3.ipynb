{
 "cells": [
  {
   "cell_type": "markdown",
   "metadata": {},
   "source": [
    "# Fibonnaci Sequence\n",
    "### Implement a Fibonnaci Sequence in three ways: recursively, dynamically (using memoization) and iteratively\n",
    "\n",
    "## Recursively"
   ]
  },
  {
   "cell_type": "code",
   "execution_count": 1,
   "metadata": {},
   "outputs": [],
   "source": [
    "def FibonnaciRecursive(num):\n",
    "    \n",
    "    # base case\n",
    "    if num == 0:\n",
    "        return 0\n",
    "    else:\n",
    "        return num + FibonnaciRecursive(num - 1)"
   ]
  },
  {
   "cell_type": "markdown",
   "metadata": {},
   "source": [
    "## Dynamically (Using Memoization)\n",
    "Similary to the recursive solution, except create a cache first. Check the cache before performing a recursive call, and always update the cache whenever a recursive call is made."
   ]
  },
  {
   "cell_type": "code",
   "execution_count": 2,
   "metadata": {},
   "outputs": [],
   "source": [
    "# cache info\n",
    "n = 10\n",
    "cache = [None]*(n+1)\n",
    "\n",
    "def FibonnaciDynamic(n):\n",
    "    \n",
    "    # base case\n",
    "    if n == 0:\n",
    "        return 0\n",
    "    \n",
    "    # check cache\n",
    "    if cache[n] != None:\n",
    "        return cache[n]\n",
    "    \n",
    "    # keep setting cache\n",
    "    cache[n] = FibonnaciDynamic(n - 1) + n\n",
    "    \n",
    "    return cache[n]"
   ]
  },
  {
   "cell_type": "markdown",
   "metadata": {},
   "source": [
    "## Iteratively"
   ]
  },
  {
   "cell_type": "code",
   "execution_count": 3,
   "metadata": {},
   "outputs": [],
   "source": [
    "def FibonnaciIterative(num):\n",
    "    \n",
    "    answer = 0\n",
    "    \n",
    "    for x in range(1,num+1):\n",
    "        answer = answer + x\n",
    "    return answer"
   ]
  },
  {
   "cell_type": "code",
   "execution_count": 4,
   "metadata": {},
   "outputs": [
    {
     "name": "stdout",
     "output_type": "stream",
     "text": [
      "Tests Pass!\n",
      "Tests Pass!\n",
      "Tests Pass!\n"
     ]
    }
   ],
   "source": [
    "from nose.tools import assert_equal\n",
    "\n",
    "class FibonnaciTester(object):\n",
    "    def test(self, solution):\n",
    "        assert_equal(solution(4),10)\n",
    "        assert_equal(solution(3),6)\n",
    "        assert_equal(solution(10),55)\n",
    "        print(\"Tests Pass!\")\n",
    "        \n",
    "        \n",
    "t = FibonnaciTester()\n",
    "t.test(FibonnaciRecursive)\n",
    "t.test(FibonnaciIterative)\n",
    "t.test(FibonnaciDynamic)\n"
   ]
  },
  {
   "cell_type": "markdown",
   "metadata": {},
   "source": [
    "### Practice, Practice, Practice \n",
    "Implement a Fibonnaci Sequence in three ways: recursively, dynamically (using memoization) and iteratively"
   ]
  },
  {
   "cell_type": "code",
   "execution_count": null,
   "metadata": {},
   "outputs": [],
   "source": []
  }
 ],
 "metadata": {
  "kernelspec": {
   "display_name": "Python 3",
   "language": "python",
   "name": "python3"
  },
  "language_info": {
   "codemirror_mode": {
    "name": "ipython",
    "version": 3
   },
   "file_extension": ".py",
   "mimetype": "text/x-python",
   "name": "python",
   "nbconvert_exporter": "python",
   "pygments_lexer": "ipython3",
   "version": "3.6.3"
  }
 },
 "nbformat": 4,
 "nbformat_minor": 2
}
